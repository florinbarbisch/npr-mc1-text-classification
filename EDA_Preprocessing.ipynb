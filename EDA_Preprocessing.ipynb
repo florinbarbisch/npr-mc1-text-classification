{
 "cells": [
  {
   "attachments": {},
   "cell_type": "markdown",
   "metadata": {},
   "source": [
    "<div style=\"width: 30%; float: right; margin: 10px; margin-right: 5%;\">\n",
    "    <img src=\"https://upload.wikimedia.org/wikipedia/commons/thumb/d/d3/FHNW_Logo.svg/2560px-FHNW_Logo.svg.png\" width=\"500\" style=\"float: left; filter: invert(50%);\"/>\n",
    "</div>\n",
    "\n",
    "<h1 style=\"text-align: left; margin-top: 10px; float: left; width: 60%;\">\n",
    "    npr Mini-Challenge 1: <br>EDA & Preprocessing\n",
    "</h1>\n",
    "\n",
    "<p style=\"clear: both; text-align: left;\">\n",
    "    Bearbeitet durch Florin Barbisch, Gabriel Torres Gamez und Jan Zwicky im HS 2023.\n",
    "</p>"
   ]
  },
  {
   "attachments": {},
   "cell_type": "markdown",
   "metadata": {},
   "source": [
    "## Vorgegebenes Ziel\n",
    "\n",
    "Wir evaluieren 3 verschiedene Klassifikationssysteme in einer Textklassifikationsaufgabe. <br><br>\n",
    "Wir argumentieren, warum wir diese Systeme für diesen Fall ausgewählt haben, und bauen, trainieren und bewerten das System. <br><br>\n",
    "Wir führen auch eine gründliche Fehleranalyse durch und schlagen Theorien zur Verbesserung der Systeme vor, <br>\n",
    "insbesondere durch die Analyse einzelner Fälle und den Vergleich der Vorhersagen jedes Systems. <br>\n",
    "Mindestens eines der Systeme basiert auf einem feinabgestimmten Deep-Learning-Modell.\n",
    "\n",
    "Hier können wir Daten aus gemeinsamen Aufgaben verwenden, wie zum Beispiel Semeval, Kaggle, <br>Codalab oder Paperwithcode für die Textklassifikation."
   ]
  },
  {
   "attachments": {},
   "cell_type": "markdown",
   "metadata": {},
   "source": [
    "## Requirements, Imports und Einstellungen\n",
    "Hier werden die benötigten Python-Pakete importiert und die Einstellungen für die Plots\n",
    "vorgenommen. "
   ]
  },
  {
   "cell_type": "code",
   "execution_count": 1,
   "metadata": {
    "tags": []
   },
   "outputs": [
    {
     "name": "stdout",
     "output_type": "stream",
     "text": [
      "Python Version: 3.10.12 (main, Jun 20 2023, 19:43:52) [Clang 14.0.3 (clang-1403.0.22.14.1)]\n",
      "PyTorch Version: 2.0.1\n",
      "Numpy Version: 1.23.5\n",
      "Pandas Version: 1.5.3\n",
      "Matplotlib Version: 3.6.3\n",
      "Sklearn Version: 1.3.1\n",
      "Seaborn Version: 0.12.2\n"
     ]
    }
   ],
   "source": [
    "# All Imports\n",
    "import sys\n",
    "import torch\n",
    "import string\n",
    "import warnings\n",
    "import numpy as np\n",
    "import pandas as pd\n",
    "import matplotlib.pyplot as plt\n",
    "import seaborn as sns\n",
    "import sklearn\n",
    "from sklearn.model_selection import train_test_split\n",
    "from sklearn.feature_extraction.text import TfidfVectorizer\n",
    "\n",
    "# Versions of the packages used\n",
    "print(f\"Python Version: {sys.version}\")\n",
    "print(f\"PyTorch Version: {torch.__version__}\")\n",
    "print(f\"Numpy Version: {np.__version__}\")\n",
    "print(f\"Pandas Version: {pd.__version__}\")\n",
    "print(f\"Matplotlib Version: {plt.matplotlib.__version__}\")\n",
    "print(f\"Sklearn Version: {sklearn.__version__}\")\n",
    "print(f\"Seaborn Version: {sns.__version__}\")\n",
    "\n",
    "# Warnings Settings\n",
    "warnings.simplefilter(action='ignore', category=FutureWarning)\n",
    "warnings.simplefilter(action='ignore', category=UserWarning)\n",
    "\n",
    "# Numpy Settings\n",
    "np.set_printoptions(precision=2, suppress=True)\n",
    "np.random.seed(42)\n",
    "\n",
    "# Matplotlib Settings\n",
    "plt.rcParams[\"figure.figsize\"] = (24, 12)"
   ]
  },
  {
   "cell_type": "markdown",
   "metadata": {},
   "source": [
    "## Helper Functions\n",
    "\n",
    "Hier werden Funktionen definiert, die bei beiden Modellen verwendet werden."
   ]
  },
  {
   "cell_type": "code",
   "execution_count": 2,
   "metadata": {},
   "outputs": [],
   "source": [
    "# Metrics, shortcuts, constants, etc."
   ]
  },
  {
   "cell_type": "markdown",
   "metadata": {},
   "source": [
    "## Gewählter Datensatz\n",
    "\n",
    "Wir haben uns für den <a href=\"https://www.kaggle.com/competitions/nlp-getting-started/data\">\"Natural Language Processing with Disaster Tweets\"</a> Datensatz entschieden.<br><br>\n",
    "Der Datensatz passt zum Ziel der Mini Challenge, da er Textdaten aus Twitter enthält, die in Notfällen <br>als wichtiger Kommunikationskanal dienen. Dies ermöglicht die Entwicklung und Evaluierung von <br>Textklassifikationssystemen, um Tweets zu identifizieren, die echte Katastrophen ankündigen, <br>von solchen, die dies nicht tun. <br><br>Dies erfordert eine gründliche Fehleranalyse und die Entwicklung von Modellen, die in der Lage sind, <br>die Bedeutung von Wörtern und Ausdrücken im Kontext zu verstehen, da Tweets oft metaphorische <br>Sprache verwenden können. <br><br>Wir haben Zugriff auf einen Datensatz von 10.000 handklassifizierten Tweets, der eine solide <br>Grundlage für die Evaluierung und Verbesserung von Textklassifikationssystemen bietet."
   ]
  },
  {
   "cell_type": "markdown",
   "metadata": {},
   "source": [
    "## Explorative Datenanalyse"
   ]
  },
  {
   "cell_type": "code",
   "execution_count": 3,
   "metadata": {},
   "outputs": [
    {
     "data": {
      "text/plain": [
       "Index(['keyword', 'location', 'text', 'target'], dtype='object')"
      ]
     },
     "execution_count": 3,
     "metadata": {},
     "output_type": "execute_result"
    }
   ],
   "source": [
    "tweets = pd.read_csv(\"./data/train.csv\", index_col=\"id\", encoding=\"utf-8\")\n",
    "tweets.columns"
   ]
  },
  {
   "cell_type": "markdown",
   "metadata": {},
   "source": [
    "Der Datensatz hat zum Text und dem Target noch die Spalten Keyword und Location. Diese werden wir für die Klassifikation nicht verwenden. Ein hybrides Modell könnte die Vorhersage verbessern."
   ]
  },
  {
   "cell_type": "code",
   "execution_count": 4,
   "metadata": {},
   "outputs": [],
   "source": [
    "tweets = tweets.loc[:,[\"text\",\"target\"]]"
   ]
  },
  {
   "cell_type": "markdown",
   "metadata": {},
   "source": [
    "Im nächsten Schritt wird ein Trainings- und Testset erstellt. Dies wird zu diesem Zeitpunkt gemacht, damit wir keine Informationen über das Testset gewinnen."
   ]
  },
  {
   "cell_type": "code",
   "execution_count": 5,
   "metadata": {},
   "outputs": [],
   "source": [
    "train, test = train_test_split(tweets, test_size=0.2,random_state=10)"
   ]
  },
  {
   "cell_type": "markdown",
   "metadata": {},
   "source": [
    "Im nächsten Schritt wird untersucht, ob es unbekannte oder doppelte Werte hat. "
   ]
  },
  {
   "cell_type": "code",
   "execution_count": 6,
   "metadata": {},
   "outputs": [
    {
     "name": "stdout",
     "output_type": "stream",
     "text": [
      "Anzahl NA Werte: 0\n",
      "Anzahl doppelte Werte: 77\n"
     ]
    }
   ],
   "source": [
    "print(f\"Anzahl NA Werte: {train.isna().any().sum()}\")\n",
    "print(f\"Anzahl doppelte Werte: {train['text'].duplicated().sum()}\")"
   ]
  },
  {
   "cell_type": "markdown",
   "metadata": {},
   "source": [
    "Es hat keine NA Werte, aber diverse doppelte Werte. Im nächsten Schritt wird untersucht, ob alle doppelten Werte den gleichen Target Wert hat."
   ]
  },
  {
   "cell_type": "code",
   "execution_count": 7,
   "metadata": {},
   "outputs": [
    {
     "data": {
      "text/html": [
       "<div>\n",
       "<style scoped>\n",
       "    .dataframe tbody tr th:only-of-type {\n",
       "        vertical-align: middle;\n",
       "    }\n",
       "\n",
       "    .dataframe tbody tr th {\n",
       "        vertical-align: top;\n",
       "    }\n",
       "\n",
       "    .dataframe thead th {\n",
       "        text-align: right;\n",
       "    }\n",
       "</style>\n",
       "<table border=\"1\" class=\"dataframe\">\n",
       "  <thead>\n",
       "    <tr style=\"text-align: right;\">\n",
       "      <th></th>\n",
       "      <th>text</th>\n",
       "      <th>target</th>\n",
       "    </tr>\n",
       "    <tr>\n",
       "      <th>id</th>\n",
       "      <th></th>\n",
       "      <th></th>\n",
       "    </tr>\n",
       "  </thead>\n",
       "  <tbody>\n",
       "    <tr>\n",
       "      <th>898</th>\n",
       "      <td>To fight bioterrorism sir.</td>\n",
       "      <td>0</td>\n",
       "    </tr>\n",
       "    <tr>\n",
       "      <th>1922</th>\n",
       "      <td>Mmmmmm I'm burning.... I'm burning buildings I...</td>\n",
       "      <td>0</td>\n",
       "    </tr>\n",
       "    <tr>\n",
       "      <th>1950</th>\n",
       "      <td>like for the music video I want some real acti...</td>\n",
       "      <td>0</td>\n",
       "    </tr>\n",
       "    <tr>\n",
       "      <th>1968</th>\n",
       "      <td>I Pledge Allegiance To The P.O.P.E. And The Bu...</td>\n",
       "      <td>1</td>\n",
       "    </tr>\n",
       "    <tr>\n",
       "      <th>4076</th>\n",
       "      <td>.POTUS #StrategicPatience is a strategy for #G...</td>\n",
       "      <td>0</td>\n",
       "    </tr>\n",
       "    <tr>\n",
       "      <th>4659</th>\n",
       "      <td>He came to a land which was engulfed in tribal...</td>\n",
       "      <td>1</td>\n",
       "    </tr>\n",
       "    <tr>\n",
       "      <th>5699</th>\n",
       "      <td>Who is bringing the tornadoes and floods. Who ...</td>\n",
       "      <td>0</td>\n",
       "    </tr>\n",
       "    <tr>\n",
       "      <th>6017</th>\n",
       "      <td>Caution: breathing may be hazardous to your he...</td>\n",
       "      <td>0</td>\n",
       "    </tr>\n",
       "    <tr>\n",
       "      <th>6031</th>\n",
       "      <td>#foodscare #offers2go #NestleIndia slips into ...</td>\n",
       "      <td>0</td>\n",
       "    </tr>\n",
       "    <tr>\n",
       "      <th>6097</th>\n",
       "      <td>The Prophet (peace be upon him) said 'Save you...</td>\n",
       "      <td>1</td>\n",
       "    </tr>\n",
       "    <tr>\n",
       "      <th>6112</th>\n",
       "      <td>Hellfire is surrounded by desires so be carefu...</td>\n",
       "      <td>1</td>\n",
       "    </tr>\n",
       "    <tr>\n",
       "      <th>6123</th>\n",
       "      <td>#Allah describes piling up #wealth thinking it...</td>\n",
       "      <td>1</td>\n",
       "    </tr>\n",
       "    <tr>\n",
       "      <th>6134</th>\n",
       "      <td>Hellfire! We donÛªt even want to think about ...</td>\n",
       "      <td>1</td>\n",
       "    </tr>\n",
       "    <tr>\n",
       "      <th>6223</th>\n",
       "      <td>RT NotExplained: The only known image of infam...</td>\n",
       "      <td>1</td>\n",
       "    </tr>\n",
       "    <tr>\n",
       "      <th>6566</th>\n",
       "      <td>CLEARED:incident with injury:I-495  inner loop...</td>\n",
       "      <td>0</td>\n",
       "    </tr>\n",
       "    <tr>\n",
       "      <th>8044</th>\n",
       "      <td>wowo--=== 12000 Nigerian refugees repatriated ...</td>\n",
       "      <td>0</td>\n",
       "    </tr>\n",
       "    <tr>\n",
       "      <th>8702</th>\n",
       "      <td>that horrible sinking feeling when youÛªve be...</td>\n",
       "      <td>0</td>\n",
       "    </tr>\n",
       "    <tr>\n",
       "      <th>9472</th>\n",
       "      <td>In #islam saving a person is equal in reward t...</td>\n",
       "      <td>1</td>\n",
       "    </tr>\n",
       "  </tbody>\n",
       "</table>\n",
       "</div>"
      ],
      "text/plain": [
       "                                                   text  target\n",
       "id                                                             \n",
       "898                          To fight bioterrorism sir.       0\n",
       "1922  Mmmmmm I'm burning.... I'm burning buildings I...       0\n",
       "1950  like for the music video I want some real acti...       0\n",
       "1968  I Pledge Allegiance To The P.O.P.E. And The Bu...       1\n",
       "4076  .POTUS #StrategicPatience is a strategy for #G...       0\n",
       "4659  He came to a land which was engulfed in tribal...       1\n",
       "5699  Who is bringing the tornadoes and floods. Who ...       0\n",
       "6017  Caution: breathing may be hazardous to your he...       0\n",
       "6031  #foodscare #offers2go #NestleIndia slips into ...       0\n",
       "6097  The Prophet (peace be upon him) said 'Save you...       1\n",
       "6112  Hellfire is surrounded by desires so be carefu...       1\n",
       "6123  #Allah describes piling up #wealth thinking it...       1\n",
       "6134  Hellfire! We donÛªt even want to think about ...       1\n",
       "6223  RT NotExplained: The only known image of infam...       1\n",
       "6566  CLEARED:incident with injury:I-495  inner loop...       0\n",
       "8044  wowo--=== 12000 Nigerian refugees repatriated ...       0\n",
       "8702  that horrible sinking feeling when youÛªve be...       0\n",
       "9472  In #islam saving a person is equal in reward t...       1"
      ]
     },
     "execution_count": 7,
     "metadata": {},
     "output_type": "execute_result"
    }
   ],
   "source": [
    "tweets[tweets[\"text\"].duplicated() &  (tweets.duplicated() == False)]"
   ]
  },
  {
   "cell_type": "code",
   "execution_count": 8,
   "metadata": {},
   "outputs": [
    {
     "data": {
      "text/html": [
       "<div>\n",
       "<style scoped>\n",
       "    .dataframe tbody tr th:only-of-type {\n",
       "        vertical-align: middle;\n",
       "    }\n",
       "\n",
       "    .dataframe tbody tr th {\n",
       "        vertical-align: top;\n",
       "    }\n",
       "\n",
       "    .dataframe thead th {\n",
       "        text-align: right;\n",
       "    }\n",
       "</style>\n",
       "<table border=\"1\" class=\"dataframe\">\n",
       "  <thead>\n",
       "    <tr style=\"text-align: right;\">\n",
       "      <th></th>\n",
       "      <th>text</th>\n",
       "      <th>target</th>\n",
       "    </tr>\n",
       "    <tr>\n",
       "      <th>id</th>\n",
       "      <th></th>\n",
       "      <th></th>\n",
       "    </tr>\n",
       "  </thead>\n",
       "  <tbody>\n",
       "    <tr>\n",
       "      <th>881</th>\n",
       "      <td>To fight bioterrorism sir.</td>\n",
       "      <td>1</td>\n",
       "    </tr>\n",
       "    <tr>\n",
       "      <th>898</th>\n",
       "      <td>To fight bioterrorism sir.</td>\n",
       "      <td>0</td>\n",
       "    </tr>\n",
       "    <tr>\n",
       "      <th>907</th>\n",
       "      <td>To fight bioterrorism sir.</td>\n",
       "      <td>1</td>\n",
       "    </tr>\n",
       "    <tr>\n",
       "      <th>916</th>\n",
       "      <td>To fight bioterrorism sir.</td>\n",
       "      <td>0</td>\n",
       "    </tr>\n",
       "  </tbody>\n",
       "</table>\n",
       "</div>"
      ],
      "text/plain": [
       "                           text  target\n",
       "id                                     \n",
       "881  To fight bioterrorism sir.       1\n",
       "898  To fight bioterrorism sir.       0\n",
       "907  To fight bioterrorism sir.       1\n",
       "916  To fight bioterrorism sir.       0"
      ]
     },
     "execution_count": 8,
     "metadata": {},
     "output_type": "execute_result"
    }
   ],
   "source": [
    "tweets[tweets[\"text\"] == \"To fight bioterrorism sir.\"]"
   ]
  },
  {
   "cell_type": "markdown",
   "metadata": {},
   "source": [
    "Diese Werte kommen mehrmals vor. Dies lassen wir so im Trainingsset. Da dadurch auch die Unsicherheit eines Textes trainiert werden kann. Das Modell sollte sich bei einem mehrdeutigen Text unsicher sein, ob sich tatsächlich eine Katastrophe ankündigt."
   ]
  },
  {
   "cell_type": "code",
   "execution_count": 9,
   "metadata": {},
   "outputs": [
    {
     "data": {
      "text/plain": [
       "id\n",
       "1     1\n",
       "23    0\n",
       "Name: target, dtype: int64"
      ]
     },
     "execution_count": 9,
     "metadata": {},
     "output_type": "execute_result"
    }
   ],
   "source": [
    "tweets.target.drop_duplicates()"
   ]
  },
  {
   "cell_type": "markdown",
   "metadata": {},
   "source": [
    "Als Target sind die Erwarteten Werte vorhanden."
   ]
  },
  {
   "cell_type": "code",
   "execution_count": 10,
   "metadata": {},
   "outputs": [
    {
     "data": {
      "image/png": "[encoded data removed]",
      "text/plain": [
       "<Figure size 2400x1200 with 1 Axes>"
      ]
     },
     "metadata": {},
     "output_type": "display_data"
    }
   ],
   "source": [
    "sns.histplot(tweets[\"target\"].replace({0:\"Nein\",1:\"Ja\"}))\n",
    "plt.title(\"Anzahl Tweets mit Katastrophe\")\n",
    "plt.ylabel(\"Anzahl\")\n",
    "plt.xlabel(\"Katastrophe\")\n",
    "plt.show()"
   ]
  },
  {
   "cell_type": "markdown",
   "metadata": {},
   "source": [
    "Es hat nicht gleiche viele Tweets von beiden Klassen. Dies hat einen Einfluss auf die Metrik, die ausgewählt wird."
   ]
  },
  {
   "cell_type": "code",
   "execution_count": 11,
   "metadata": {},
   "outputs": [
    {
     "data": {
      "image/png": "[encoded data removed]",
      "text/plain": [
       "<Figure size 2400x1200 with 1 Axes>"
      ]
     },
     "metadata": {},
     "output_type": "display_data"
    }
   ],
   "source": [
    "# plot the average number of words per tweet\n",
    "sns.histplot(tweets[\"text\"].str.split().apply(len), bins=15)\n",
    "plt.title(\"Anzahl Wörter pro Tweet\")\n",
    "plt.ylabel(\"Anzahl\")\n",
    "plt.xlabel(\"Anzahl Wörter\")\n",
    "plt.show()"
   ]
  },
  {
   "cell_type": "markdown",
   "metadata": {},
   "source": [
    "Die meisten Tweets haben zwischen 10 und 20 Wörter. Nur die wenigsten haben mehr als 30 Wörter oder weniger als 5 Wörter. Bei kürzeren Tweets könnte das Modell Schwierigkeiten haben."
   ]
  },
  {
   "cell_type": "markdown",
   "metadata": {},
   "source": [
    "### TF-IDF\n",
    "\n",
    "TF-IDF (Term Frequency-Inverse Document Frequency) ist eine Textanalyse-Technik, die die Bedeutung von Wörtern in einem Dokument anhand ihrer Häufigkeit und Seltenheit in einem Textkorpus ermittelt. Sie wird häufig in Information Retrieval und Text-Mining verwendet.\n",
    "\n",
    "Hier werden wir die wichtigsten Wörter für Tweets mit Katastrophen und ohne Katastrophen ermitteln. Dies kann uns helfen, die Daten besser zu verstehen und die Modelle zu verbessern."
   ]
  },
  {
   "cell_type": "code",
   "execution_count": 12,
   "metadata": {},
   "outputs": [
    {
     "data": {
      "text/plain": [
       "'Example tweets:'"
      ]
     },
     "metadata": {},
     "output_type": "display_data"
    },
    {
     "data": {
      "text/plain": [
       "['our deeds are the reason of this earthquake may allah forgive us all',\n",
       " 'forest fire near la ronge sask canada',\n",
       " 'all residents asked to shelter in place are being notified by officers no other evacuation or shelter in place orders are expected',\n",
       " 'people receive wildfires evacuation orders in california',\n",
       " 'just got sent this photo from ruby alaska as smoke from wildfires pours into a school',\n",
       " 'rockyfire update california hwy closed in both directions due to lake county fire cafire wildfires',\n",
       " 'flood disaster heavy rain causes flash flooding of streets in manitou colorado springs areas',\n",
       " 'im on top of the hill and i can see a fire in the woods',\n",
       " 'theres an emergency evacuation happening now in the building across the street',\n",
       " 'im afraid that the tornado is coming to our area']"
      ]
     },
     "metadata": {},
     "output_type": "display_data"
    }
   ],
   "source": [
    "# quick preprocessing, so we get clean tweets with only words\n",
    "catastrophe_tweets = [tweet.lower() for tweet in tweets[tweets.target == 1][\"text\"]]\n",
    "catastrophe_tweets = [\"\".join(c for c in tweet if c not in string.punctuation) for tweet in catastrophe_tweets]\n",
    "catastrophe_tweets = [\"\".join(c for c in tweet if c not in string.digits) for tweet in catastrophe_tweets]\n",
    "catastrophe_tweets = [\" \".join(tweet.split()) for tweet in catastrophe_tweets]\n",
    "\n",
    "normal_tweets = [tweet.lower() for tweet in tweets[tweets.target == 0][\"text\"]]\n",
    "normal_tweets = [\"\".join(c for c in tweet if c not in string.punctuation) for tweet in normal_tweets]\n",
    "normal_tweets = [\"\".join(c for c in tweet if c not in string.digits) for tweet in normal_tweets]\n",
    "normal_tweets = [\" \".join(tweet.split()) for tweet in normal_tweets]\n",
    "\n",
    "all_tweets = catastrophe_tweets + normal_tweets\n",
    "\n",
    "display(\"Example tweets:\")\n",
    "display(all_tweets[:10])"
   ]
  },
  {
   "cell_type": "markdown",
   "metadata": {},
   "source": [
    "Hier sehen wir, dass die Tweets korrekt bereinigt wurden."
   ]
  },
  {
   "cell_type": "code",
   "execution_count": 13,
   "metadata": {},
   "outputs": [
    {
     "name": "stdout",
     "output_type": "stream",
     "text": [
      "Top 10 Catastrophe Tweets Features: \n",
      "news          0.008754\n",
      "california    0.008483\n",
      "disaster      0.007901\n",
      "suicide       0.007677\n",
      "hiroshima     0.007261\n",
      "people        0.006959\n",
      "families      0.006709\n",
      "fires         0.006705\n",
      "police        0.006594\n",
      "killed        0.006548\n",
      "dtype: float64\n",
      "\n",
      "Top 10 Normal Tweets Features: \n",
      "amp          0.008135\n",
      "body         0.006131\n",
      "love         0.005824\n",
      "time         0.005108\n",
      "day          0.004920\n",
      "people       0.004913\n",
      "video        0.004695\n",
      "lol          0.004345\n",
      "youtube      0.004162\n",
      "emergency    0.003971\n",
      "dtype: float64\n"
     ]
    }
   ],
   "source": [
    "# Load the english stop words\n",
    "stop_words_en = (\n",
    "    pd.read_csv(\n",
    "        \"https://raw.githubusercontent.com/stopwords-iso/stopwords-en/master/stopwords-en.txt\",\n",
    "        header=None,\n",
    "    )\n",
    "    .iloc[:, 0]\n",
    ")\n",
    "stop_words_en = [word for word in stop_words_en if isinstance(word, str)]\n",
    "stop_words_en = [\"\".join(c for c in word if c not in string.punctuation) for word in stop_words_en]\n",
    "stop_words_en = [\"\".join(c for c in word if c not in string.digits) for word in stop_words_en]\n",
    "\n",
    "# Create the tfidf matrix\n",
    "tfidf = TfidfVectorizer(stop_words=stop_words_en)\n",
    "tfidf_matrix = tfidf.fit_transform(all_tweets)\n",
    "tfidf_df = pd.DataFrame(tfidf_matrix.toarray(), columns=tfidf.get_feature_names_out())\n",
    "\n",
    "# Results\n",
    "print(f\"Top 10 Catastrophe Tweets Features: \\n{tfidf_df.iloc[:len(catastrophe_tweets)].mean().sort_values(ascending=False)[:10]}\\n\")\n",
    "print(f\"Top 10 Normal Tweets Features: \\n{tfidf_df.iloc[len(catastrophe_tweets):].mean().sort_values(ascending=False)[:10]}\")"
   ]
  },
  {
   "cell_type": "markdown",
   "metadata": {},
   "source": [
    "Wir können erkennen, dass negativere Wörter häufig wichtige Wörter für Tweets mit Katastrophen sind. \n",
    "Dies ist bei Tweets ohne Katastrophen nicht der Fall."
   ]
  },
  {
   "cell_type": "markdown",
   "metadata": {},
   "source": [
    "## Data Preprocessing"
   ]
  },
  {
   "cell_type": "code",
   "execution_count": null,
   "metadata": {},
   "outputs": [],
   "source": []
  },
  {
   "cell_type": "markdown",
   "metadata": {},
   "source": []
  }
 ],
 "metadata": {
  "kernelspec": {
   "display_name": "Python 3 (ipykernel)",
   "language": "python",
   "name": "python3"
  },
  "language_info": {
   "codemirror_mode": {
    "name": "ipython",
    "version": 3
   },
   "file_extension": ".py",
   "mimetype": "text/x-python",
   "name": "python",
   "nbconvert_exporter": "python",
   "pygments_lexer": "ipython3",
   "version": "3.10.12"
  }
 },
 "nbformat": 4,
 "nbformat_minor": 4
}
