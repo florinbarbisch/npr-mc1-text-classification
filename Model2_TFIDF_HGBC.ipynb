{
 "cells": [
  {
   "attachments": {},
   "cell_type": "markdown",
   "metadata": {},
   "source": [
    "<div style=\"width: 30%; float: right; margin: 10px; margin-right: 5%;\">\n",
    "    <img src=\"https://upload.wikimedia.org/wikipedia/commons/thumb/d/d3/FHNW_Logo.svg/2560px-FHNW_Logo.svg.png\" width=\"500\" style=\"float: left; filter: invert(50%);\"/>\n",
    "</div>\n",
    "\n",
    "<h1 style=\"text-align: left; margin-top: 10px; float: left; width: 60%;\">\n",
    "    npr Mini-Challenge 1: <br>TFIDF-HGBC\n",
    "</h1>\n",
    "\n",
    "<p style=\"clear: both; text-align: left;\">\n",
    "    Bearbeitet durch Florin Barbisch, Gabriel Torres Gamez und Jan Zwicky im HS 2023.\n",
    "</p>"
   ]
  },
  {
   "attachments": {},
   "cell_type": "markdown",
   "metadata": {},
   "source": [
    "## Modellerklärung\n",
    "\n",
    "Das Modell zur Klassifikation von Disaster Tweets besteht aus zwei Hauptkomponenten: einem Vectorizer und einem Classifier.\n",
    "\n",
    "Der Vectorizer, in diesem Fall TFIDF (Term Frequency-Inverse Document Frequency), wandelt die Tweets in numerische Vektoren<br>\n",
    "um. TFIDF berechnet für jedes Wort in einem Tweet einen Wert, der angibt, wie wichtig das Wort für den Tweet ist. Dabei wird<br>\n",
    "die Häufigkeit des Wortes im Tweet (Term Frequency) mit der Seltenheit des Wortes im gesamten Textkorpus (Inverse Document<br>\n",
    "Frequency) multipliziert. Dieser Prozess ermöglicht es, die Tweets in einem numerischen Raum darzustellen, in dem ähnliche<br>\n",
    "Tweets nahe beieinander liegen.\n",
    "\n",
    "Nachdem die Tweets mit dem Vectorizer in Vektoren umgewandelt wurden, werden sie dem Histogram Gradient Boosting Classifier<br>\n",
    "zugeführt. Dieser Classifier ist eine Erweiterung des Gradient Boosting Classifiers und verwendet Histogramme, um die<br>\n",
    "Effizienz des Trainings und der Vorhersage zu verbessern. Der Classifier lernt aus den TFIDF-Vektoren und<br>\n",
    "erstellt ein Modell, das in der Lage ist, neue, nicht gekennzeichnete Tweets zu klassifizieren. Dabei wird der<br>\n",
    "Disaster-Status (Ja/Nein) des Tweets vorhergesagt."
   ]
  },
  {
   "attachments": {},
   "cell_type": "markdown",
   "metadata": {},
   "source": [
    "## Requirements, Imports und Einstellungen\n",
    "Hier werden die benötigten Python-Pakete importiert und die Einstellungen für die Plots\n",
    "vorgenommen. "
   ]
  },
  {
   "cell_type": "code",
   "execution_count": 1,
   "metadata": {
    "tags": []
   },
   "outputs": [
    {
     "name": "stdout",
     "output_type": "stream",
     "text": [
      "Python Version: 3.11.6 (main, Oct  2 2023, 13:45:54) [Clang 15.0.0 (clang-1500.0.40.1)]\n",
      "PyTorch Version: 2.1.0\n",
      "Numpy Version: 1.25.2\n",
      "Scipy Version: 1.11.3\n",
      "Pandas Version: 2.1.1\n",
      "Matplotlib Version: 3.7.0\n",
      "Sklearn Version: 1.3.1\n",
      "Seaborn Version: 0.12.2\n"
     ]
    }
   ],
   "source": [
    "# All Imports\n",
    "import sys\n",
    "import html\n",
    "import scipy\n",
    "import torch\n",
    "import sklearn\n",
    "import warnings\n",
    "import numpy as np\n",
    "import pandas as pd\n",
    "import matplotlib.pyplot as plt\n",
    "import seaborn as sns\n",
    "\n",
    "from sklearn.ensemble import HistGradientBoostingClassifier\n",
    "from sklearn.feature_extraction.text import TfidfVectorizer\n",
    "\n",
    "# Versions of the packages used\n",
    "print(f\"Python Version: {sys.version}\")\n",
    "print(f\"PyTorch Version: {torch.__version__}\")\n",
    "print(f\"Numpy Version: {np.__version__}\")\n",
    "print(f\"Scipy Version: {scipy.__version__}\")\n",
    "print(f\"Pandas Version: {pd.__version__}\")\n",
    "print(f\"Matplotlib Version: {plt.matplotlib.__version__}\")\n",
    "print(f\"Sklearn Version: {sklearn.__version__}\")\n",
    "print(f\"Seaborn Version: {sns.__version__}\")\n",
    "\n",
    "# Warnings Settings\n",
    "warnings.simplefilter(action='ignore', category=FutureWarning)\n",
    "\n",
    "# Numpy Settings\n",
    "np.set_printoptions(precision=2, suppress=True)\n",
    "np.random.seed(42)\n",
    "\n",
    "# Matplotlib Settings\n",
    "plt.rcParams[\"figure.figsize\"] = (4, 4)\n",
    "plt.rcParams[\"figure.dpi\"] = 100\n",
    "\n",
    "# Pandas Settings\n",
    "pd.options.display.max_colwidth = None"
   ]
  },
  {
   "cell_type": "markdown",
   "metadata": {},
   "source": [
    "## Helper Functions\n",
    "\n",
    "Hier werden Funktionen und Klassen definiert, die bei den Modellen verwendet werden."
   ]
  },
  {
   "cell_type": "code",
   "execution_count": 2,
   "metadata": {},
   "outputs": [],
   "source": [
    "# Metrics, shortcuts, constants, etc.\n",
    "class Pipeline:\n",
    "    \"\"\"Pipeline for customizable text classification model.\"\"\"\n",
    "\n",
    "    def __init__(self, vectorizer, classifier, reducer=None) -> None:\n",
    "        self.vectorizer = vectorizer\n",
    "        self.classifier = classifier\n",
    "        self.reducer = reducer\n",
    "\n",
    "    def __repr__(self) -> str:\n",
    "        return f\"Pipeline(vectorizer={self.vectorizer}, classifier={self.classifier}, reducer={self.reducer})\"\n",
    "\n",
    "    def fit(self, features, labels) -> \"Pipeline\":\n",
    "        \"\"\"\n",
    "        Fit the model to the given training data.\n",
    "\n",
    "        Parameters\n",
    "        ----------\n",
    "        features : list of str\n",
    "            Training data features.\n",
    "        labels : np.ndarray or pandas.Series\n",
    "            Training data labels.\n",
    "\n",
    "        Returns\n",
    "        -------\n",
    "        self\n",
    "            The fitted model.\n",
    "        \"\"\"\n",
    "        self.vectorizer.fit(features)\n",
    "        transformed_features = self.vectorizer.transform(features).toarray()\n",
    "        if self.reducer:\n",
    "            self.reducer.fit(transformed_features)\n",
    "            transformed_features = self.reducer.transform(transformed_features)\n",
    "        self.classifier.fit(transformed_features, labels)\n",
    "        return self\n",
    "\n",
    "    def predict(self, features) -> np.ndarray:\n",
    "        \"\"\"\n",
    "        Predict labels for the given features.\n",
    "\n",
    "        Parameters\n",
    "        ----------\n",
    "        features : list of str\n",
    "            Features to predict labels for.\n",
    "\n",
    "        Returns\n",
    "        -------\n",
    "        np.ndarray\n",
    "            Predicted labels for the given features.\n",
    "        \"\"\"\n",
    "        transformed_features = self.vectorizer.transform(features).toarray()\n",
    "        if self.reducer:\n",
    "            transformed_features = self.reducer.transform(transformed_features)\n",
    "        return self.classifier.predict(transformed_features)\n",
    "\n",
    "    def score(self, features, labels, metric=\"acc\") -> np.float64:\n",
    "        \"\"\"\n",
    "        Score the model on the given features and labels.\n",
    "\n",
    "        Parameters\n",
    "        ----------\n",
    "        features : list of str\n",
    "            Features to score the model on.\n",
    "        labels : np.ndarray or pandas.Series\n",
    "            Labels to score the model on.\n",
    "        metric : str, optional\n",
    "            Metric to use for scoring, by default \"acc\"\n",
    "\n",
    "        Returns\n",
    "        -------\n",
    "        np.float64\n",
    "            Score of the model on the given features and labels.\n",
    "        \"\"\"\n",
    "        match metric:\n",
    "            case \"acc\":\n",
    "                return sklearn.metrics.accuracy_score(labels, self.predict(features))\n",
    "            case \"f1_macro\":\n",
    "                return sklearn.metrics.f1_score(labels, self.predict(features), average=\"macro\")\n",
    "            case _:\n",
    "                raise ValueError(f\"Unknown metric: {metric}\")\n",
    "            \n",
    "    def validate(self,  features, labels) -> None:\n",
    "        \"\"\"\n",
    "        Validate the model on the given features and labels.\n",
    "\n",
    "        Parameters\n",
    "        ----------\n",
    "        features : list of str\n",
    "            Features to validate the model on.\n",
    "        labels : np.ndarray or pandas.Series\n",
    "            Labels to validate the model on.\n",
    "        \"\"\"\n",
    "        predicted_labels = self.predict(features)\n",
    "\n",
    "        print(\"Metrics\")\n",
    "        print(f\"Accuracy: {self.score(features, labels, metric='acc')}\")\n",
    "        print(f\"F1 Macro: {self.score(features, labels, metric='f1_macro')}\")\n",
    "        print()\n",
    "\n",
    "        print(\"Confusion Matrix\")\n",
    "        conf_matrix = sklearn.metrics.confusion_matrix(labels, predicted_labels).astype(int)\n",
    "        sns.heatmap(conf_matrix, annot=True, fmt='d', cmap='Greys', cbar=False,\n",
    "                    xticklabels=['Predicted False', 'Predicted True'],\n",
    "                    yticklabels=['Actual False', 'Actual True'],\n",
    "                    annot_kws={\"size\": 16})\n",
    "        plt.xlabel('Predicted')\n",
    "        plt.ylabel('Actual')\n",
    "        plt.title('Confusion Matrix')\n",
    "        plt.show()\n",
    "        print()\n",
    "\n",
    "        print(\"ROC Curve\")\n",
    "        probs = self.classifier.predict_proba(self.vectorizer.transform(features).toarray())\n",
    "        fpr, tpr, _ = sklearn.metrics.roc_curve(labels, probs[:, 1])\n",
    "        plt.plot(fpr, tpr)\n",
    "        plt.xlabel('False Positive Rate')\n",
    "        plt.ylabel('True Positive Rate')\n",
    "        plt.title('ROC Curve')\n",
    "        plt.show()\n",
    "        print()\n",
    "\n",
    "        print(f\"Some first degree errors (predicted true, actual false)), Total: {np.sum((predicted_labels == 1) & (labels == 0))}\")\n",
    "        first_degree_errors = np.where((predicted_labels == 1) & (labels == 0))[0]\n",
    "        first_degree_errors = pd.DataFrame({'Text': [features[i] for i in first_degree_errors],})\n",
    "        display(first_degree_errors.sample(10))\n",
    "        print()\n",
    "\n",
    "        print(f\"Some second degree errors (predicted false, actual true)), Total: {np.sum((predicted_labels == 0) & (labels == 1))}\")\n",
    "        second_degree_errors = np.where((predicted_labels == 0) & (labels == 1))[0]\n",
    "        second_degree_errors = pd.DataFrame({'Text': [features[i] for i in second_degree_errors],})\n",
    "        display(second_degree_errors.sample(10))\n",
    "        "
   ]
  },
  {
   "cell_type": "markdown",
   "metadata": {},
   "source": [
    "## Einlesen des verarbeiteten Datensatzes"
   ]
  },
  {
   "cell_type": "code",
   "execution_count": 3,
   "metadata": {},
   "outputs": [],
   "source": [
    "train = pd.read_csv('data/processed/train.csv', index_col=0)\n",
    "val = pd.read_csv('data/processed/val.csv', index_col=0)\n",
    "\n",
    "X_train = [html.unescape(tweet) for tweet in train[\"text\"]]\n",
    "X_val = [html.unescape(tweet) for tweet in val[\"text\"]]\n",
    "\n",
    "y_train = train[\"target\"]\n",
    "y_val = val[\"target\"]"
   ]
  },
  {
   "cell_type": "markdown",
   "metadata": {},
   "source": [
    "Wir lesen die getrennten Datensätze ein und wandeln alle vorhandenen HTML Sonderzeichen in normale Zeichen um.<br>\n",
    "In unseren X Arrays befinden sich die Sätze untokenisiert. Der TFIDF Vectorizer \"tokenisiert\" die Sätze automatisch.\n"
   ]
  },
  {
   "cell_type": "markdown",
   "metadata": {},
   "source": [
    "## Trainieren des Klassifikationsmodell"
   ]
  },
  {
   "cell_type": "code",
   "execution_count": 4,
   "metadata": {},
   "outputs": [
    {
     "data": {
      "text/plain": [
       "Pipeline(vectorizer=TfidfVectorizer(max_features=1000), classifier=HistGradientBoostingClassifier(), reducer=None)"
      ]
     },
     "execution_count": 4,
     "metadata": {},
     "output_type": "execute_result"
    }
   ],
   "source": [
    "# Define Pipeline\n",
    "TFIDF_HGBC = Pipeline(\n",
    "    vectorizer=TfidfVectorizer(max_features=1000),\n",
    "    reducer=None, # None, PCA, NMF, etc.\n",
    "    classifier=HistGradientBoostingClassifier(),\n",
    ")\n",
    "\n",
    "# Fit Pipeline\n",
    "TFIDF_HGBC.fit(X_train, y_train)"
   ]
  },
  {
   "cell_type": "markdown",
   "metadata": {},
   "source": [
    "Für das Trainieren des Modells wird der TFIDF Vectorizer verwendet, um die Sätze in Matrizen umzuwandeln. <br>\n",
    "Die Matrizen werden dann in den HGBC gegeben, um das Modell zu trainieren. <br>\n",
    "\n",
    "Zwischen TFIDF Vectorizer und HGBC besteht die Option, eine Dimensionsreduktion durchzuführen. <br>\n",
    "Jedoch ist dies in vielen Fällen langsamer und führt zu schlechteren Ergebnissen. <br>\n",
    "Alternativ kann man dem Vectorizer mitteilen, nur die 1000 wichtigsten Wörter zu verwenden.<br> \n",
    "Dies führt erstaunlicherweise nicht zu schlechteren Ergebnissen. Möglicherweise wegen der Simplizität unseres Datensatzes.<br>"
   ]
  },
  {
   "cell_type": "markdown",
   "metadata": {},
   "source": [
    "## Auswertung des Klassifikationsmodell\n",
    "\n",
    "TODO: Welche Metriken und wieso passen diese (zum Anwenungsfall)?"
   ]
  },
  {
   "cell_type": "markdown",
   "metadata": {},
   "source": [
    "Als erstes Überprüfen wir unser Modell auf den Trainingsdaten."
   ]
  },
  {
   "cell_type": "code",
   "execution_count": 5,
   "metadata": {},
   "outputs": [
    {
     "name": "stdout",
     "output_type": "stream",
     "text": [
      "Metrics\n",
      "Accuracy: 0.8785905143620575\n",
      "F1 Macro: 0.8726912122996648\n",
      "\n",
      "Confusion Matrix\n"
     ]
    },
    {
     "data": {
      "image/png": "[encoded data removed]",
      "text/plain": [
       "<Figure size 400x400 with 1 Axes>"
      ]
     },
     "metadata": {},
     "output_type": "display_data"
    },
    {
     "name": "stdout",
     "output_type": "stream",
     "text": [
      "\n",
      "ROC Curve\n"
     ]
    },
    {
     "data": {
      "image/png": "[encoded data removed]",
      "text/plain": [
       "<Figure size 400x400 with 1 Axes>"
      ]
     },
     "metadata": {},
     "output_type": "display_data"
    },
    {
     "name": "stdout",
     "output_type": "stream",
     "text": [
      "\n",
      "Some first degree errors (predicted true, actual false)), Total: 173\n"
     ]
    },
    {
     "data": {
      "text/html": [
       "<div>\n",
       "<style scoped>\n",
       "    .dataframe tbody tr th:only-of-type {\n",
       "        vertical-align: middle;\n",
       "    }\n",
       "\n",
       "    .dataframe tbody tr th {\n",
       "        vertical-align: top;\n",
       "    }\n",
       "\n",
       "    .dataframe thead th {\n",
       "        text-align: right;\n",
       "    }\n",
       "</style>\n",
       "<table border=\"1\" class=\"dataframe\">\n",
       "  <thead>\n",
       "    <tr style=\"text-align: right;\">\n",
       "      <th></th>\n",
       "      <th>Text</th>\n",
       "    </tr>\n",
       "  </thead>\n",
       "  <tbody>\n",
       "    <tr>\n",
       "      <th>155</th>\n",
       "      <td>Brunette teen Giselle Locke teases at home http://t.co/qew4c5M1xd View and download video</td>\n",
       "    </tr>\n",
       "    <tr>\n",
       "      <th>144</th>\n",
       "      <td>she's a suicide bomb</td>\n",
       "    </tr>\n",
       "    <tr>\n",
       "      <th>101</th>\n",
       "      <td>I'm hungry as a hostage</td>\n",
       "    </tr>\n",
       "    <tr>\n",
       "      <th>127</th>\n",
       "      <td>Any lengths to rescue a cat in need! http://t.co/AMroX4Y4Nx</td>\n",
       "    </tr>\n",
       "    <tr>\n",
       "      <th>140</th>\n",
       "      <td>ice cream + cupcake wars + storm = content sara</td>\n",
       "    </tr>\n",
       "    <tr>\n",
       "      <th>138</th>\n",
       "      <td>Nike Golf Storm Fit Golf Jacket Black Medium http://t.co/jvAI5Vkmsy: #SportingGoods http://t.co/Nr8JjmpmoS</td>\n",
       "    </tr>\n",
       "    <tr>\n",
       "      <th>42</th>\n",
       "      <td>#fitness Knee Damage Solution http://t.co/pUMbrNeBJE</td>\n",
       "    </tr>\n",
       "    <tr>\n",
       "      <th>15</th>\n",
       "      <td>kou is like [CASH REGISTER] [BUILDINGS BURNING]</td>\n",
       "    </tr>\n",
       "    <tr>\n",
       "      <th>126</th>\n",
       "      <td>Newlyweds feed thousands of Syrian refugees instead of hosting a banquet wedding dinner http://t.co/EGcv7ybjae #Age #news</td>\n",
       "    </tr>\n",
       "    <tr>\n",
       "      <th>65</th>\n",
       "      <td>FAAN orders evacuation of abandoned aircraft at MMA http://t.co/dEvYbnVXGQ via @todayng</td>\n",
       "    </tr>\n",
       "  </tbody>\n",
       "</table>\n",
       "</div>"
      ],
      "text/plain": [
       "                                                                                                                          Text\n",
       "155                                  Brunette teen Giselle Locke teases at home http://t.co/qew4c5M1xd View and download video\n",
       "144                                                                                                       she's a suicide bomb\n",
       "101                                                                                                    I'm hungry as a hostage\n",
       "127                                                                Any lengths to rescue a cat in need! http://t.co/AMroX4Y4Nx\n",
       "140                                                                            ice cream + cupcake wars + storm = content sara\n",
       "138                 Nike Golf Storm Fit Golf Jacket Black Medium http://t.co/jvAI5Vkmsy: #SportingGoods http://t.co/Nr8JjmpmoS\n",
       "42                                                                        #fitness Knee Damage Solution http://t.co/pUMbrNeBJE\n",
       "15                                                                             kou is like [CASH REGISTER] [BUILDINGS BURNING]\n",
       "126  Newlyweds feed thousands of Syrian refugees instead of hosting a banquet wedding dinner http://t.co/EGcv7ybjae #Age #news\n",
       "65                                     FAAN orders evacuation of abandoned aircraft at MMA http://t.co/dEvYbnVXGQ via @todayng"
      ]
     },
     "metadata": {},
     "output_type": "display_data"
    },
    {
     "name": "stdout",
     "output_type": "stream",
     "text": [
      "\n",
      "Some second degree errors (predicted false, actual true)), Total: 554\n"
     ]
    },
    {
     "data": {
      "text/html": [
       "<div>\n",
       "<style scoped>\n",
       "    .dataframe tbody tr th:only-of-type {\n",
       "        vertical-align: middle;\n",
       "    }\n",
       "\n",
       "    .dataframe tbody tr th {\n",
       "        vertical-align: top;\n",
       "    }\n",
       "\n",
       "    .dataframe thead th {\n",
       "        text-align: right;\n",
       "    }\n",
       "</style>\n",
       "<table border=\"1\" class=\"dataframe\">\n",
       "  <thead>\n",
       "    <tr style=\"text-align: right;\">\n",
       "      <th></th>\n",
       "      <th>Text</th>\n",
       "    </tr>\n",
       "  </thead>\n",
       "  <tbody>\n",
       "    <tr>\n",
       "      <th>479</th>\n",
       "      <td>Slums are a manifestation state failure to provide housing to citizens. Illegality discourse confounds structural problems. #stopevictions</td>\n",
       "    </tr>\n",
       "    <tr>\n",
       "      <th>81</th>\n",
       "      <td>?? New Ladies Shoulder Tote #Handbag Faux Leather Hobo Purse Cross Body Bag #Womens http://t.co/zujwUiomb3 http://t.co/iap4LwvqsW</td>\n",
       "    </tr>\n",
       "    <tr>\n",
       "      <th>77</th>\n",
       "      <td>Bloody insomnia again! Grrrr!! #Insomnia</td>\n",
       "    </tr>\n",
       "    <tr>\n",
       "      <th>208</th>\n",
       "      <td>@freeMurphy Your hot take on Canada's hitchhiking garbage-bot (destroyed in Philly) was sorely needed.</td>\n",
       "    </tr>\n",
       "    <tr>\n",
       "      <th>319</th>\n",
       "      <td>@TheBlackshag @dannyoneil too toxic...cancer....disease...hazardous waste...noxious...</td>\n",
       "    </tr>\n",
       "    <tr>\n",
       "      <th>326</th>\n",
       "      <td>Fel Lord Zakuun is about to DIE ! #Hellfire #WOD http://t.co/x1oNV3d5uX</td>\n",
       "    </tr>\n",
       "    <tr>\n",
       "      <th>248</th>\n",
       "      <td>@POTUS Thx for emergency dec. http://t.co/DyWWNbbYvJ 4 days and no plan to get H20 to those who have no transport. Can you deploy troops?</td>\n",
       "    </tr>\n",
       "    <tr>\n",
       "      <th>324</th>\n",
       "      <td>@rachelcaine The weatherit needs to make it minds up. First snow tornadoes now would you say a heat wave?</td>\n",
       "    </tr>\n",
       "    <tr>\n",
       "      <th>398</th>\n",
       "      <td>This is the natural and unavoidable consequence of socialism everywhere it has been tried.\\nhttp://t.co/BbDpnj8XSx A</td>\n",
       "    </tr>\n",
       "    <tr>\n",
       "      <th>120</th>\n",
       "      <td>ok peace I hope I fall off a cliff along with my dignity</td>\n",
       "    </tr>\n",
       "  </tbody>\n",
       "</table>\n",
       "</div>"
      ],
      "text/plain": [
       "                                                                                                                                           Text\n",
       "479  Slums are a manifestation state failure to provide housing to citizens. Illegality discourse confounds structural problems. #stopevictions\n",
       "81            ?? New Ladies Shoulder Tote #Handbag Faux Leather Hobo Purse Cross Body Bag #Womens http://t.co/zujwUiomb3 http://t.co/iap4LwvqsW\n",
       "77                                                                                                     Bloody insomnia again! Grrrr!! #Insomnia\n",
       "208                                      @freeMurphy Your hot take on Canada's hitchhiking garbage-bot (destroyed in Philly) was sorely needed.\n",
       "319                                                      @TheBlackshag @dannyoneil too toxic...cancer....disease...hazardous waste...noxious...\n",
       "326                                                                     Fel Lord Zakuun is about to DIE ! #Hellfire #WOD http://t.co/x1oNV3d5uX\n",
       "248   @POTUS Thx for emergency dec. http://t.co/DyWWNbbYvJ 4 days and no plan to get H20 to those who have no transport. Can you deploy troops?\n",
       "324                                   @rachelcaine The weatherit needs to make it minds up. First snow tornadoes now would you say a heat wave?\n",
       "398                        This is the natural and unavoidable consequence of socialism everywhere it has been tried.\\nhttp://t.co/BbDpnj8XSx A\n",
       "120                                                                                    ok peace I hope I fall off a cliff along with my dignity"
      ]
     },
     "metadata": {},
     "output_type": "display_data"
    }
   ],
   "source": [
    "TFIDF_HGBC.validate(X_train, y_train)"
   ]
  },
  {
   "cell_type": "markdown",
   "metadata": {},
   "source": [
    "Beim Auswerten des Modells auf den Trainingsdaten erreichen wir recht hohe Metriken. Das Modell macht aber sehr viele Fehler zweiten Grades.<br>\n",
    "Wenn man aber die falsch klassifizierten Sätze sieht, sehen wir ein komisches Muster:<br>\n",
    "Einige Sätze, welche als Katastrophe klassifiziert werden, sehen nicht gerade nach Katastrophen aus oder können nur nach Einsicht eines Links so <br>klassifiziert werden. <br><br>\n",
    "Zum Beispiel:<br> \n",
    "\"@freeMurphy Your hot take on Canada's hitchhiking garbage-bot (destroyed in Philly) was sorely needed.\"<br>\n",
    "\"ok peace I hope I fall off a cliff along with my dignity\"<br>\n",
    "\"This is the natural and unavoidable consequence of socialism everywhere it has been tried.http://t.co/BbDpnj8XSx A\"<br><br>\n",
    "Bei den Fehlern ersten Grades kann man schon besser nachvollziehen, wieso das Modell diese falsch klassifiziert hat. <br>\n",
    "Wörter wie \"hostage\", \"suicide bomb\" oder \"wars\" werden genutzt, um einen Satz dramatischer wirken zu lassen. <br>\n",
    "Das Modell hat Schwierigkeiten, diese Zusammenhänge im Kontext korrekt zu erkennen."
   ]
  },
  {
   "cell_type": "code",
   "execution_count": 6,
   "metadata": {},
   "outputs": [
    {
     "name": "stdout",
     "output_type": "stream",
     "text": [
      "Metrics\n",
      "Accuracy: 0.7755511022044088\n",
      "F1 Macro: 0.7650141087212452\n",
      "\n",
      "Confusion Matrix\n"
     ]
    },
    {
     "data": {
      "image/png": "[encoded data removed]",
      "text/plain": [
       "<Figure size 400x400 with 1 Axes>"
      ]
     },
     "metadata": {},
     "output_type": "display_data"
    },
    {
     "name": "stdout",
     "output_type": "stream",
     "text": [
      "\n",
      "ROC Curve\n"
     ]
    },
    {
     "data": {
      "image/png": "[encoded data removed]",
      "text/plain": [
       "<Figure size 400x400 with 1 Axes>"
      ]
     },
     "metadata": {},
     "output_type": "display_data"
    },
    {
     "name": "stdout",
     "output_type": "stream",
     "text": [
      "\n",
      "Some first degree errors (predicted true, actual false)), Total: 110\n"
     ]
    },
    {
     "data": {
      "text/html": [
       "<div>\n",
       "<style scoped>\n",
       "    .dataframe tbody tr th:only-of-type {\n",
       "        vertical-align: middle;\n",
       "    }\n",
       "\n",
       "    .dataframe tbody tr th {\n",
       "        vertical-align: top;\n",
       "    }\n",
       "\n",
       "    .dataframe thead th {\n",
       "        text-align: right;\n",
       "    }\n",
       "</style>\n",
       "<table border=\"1\" class=\"dataframe\">\n",
       "  <thead>\n",
       "    <tr style=\"text-align: right;\">\n",
       "      <th></th>\n",
       "      <th>Text</th>\n",
       "    </tr>\n",
       "  </thead>\n",
       "  <tbody>\n",
       "    <tr>\n",
       "      <th>27</th>\n",
       "      <td>Worlds Collide When an American Family Takes Over Britain's Isle of Man in New TLC Show Suddenly Royal http://t.co/OmB3oS54tN via @People</td>\n",
       "    </tr>\n",
       "    <tr>\n",
       "      <th>69</th>\n",
       "      <td>@kristenKOIN6 Yay good cooler weather for PDX..ABQ NM is feeling the heat wave now bcuz my rain dances aren't working :-)</td>\n",
       "    </tr>\n",
       "    <tr>\n",
       "      <th>106</th>\n",
       "      <td>and I thought my surgical wounds were healed!!! this weather ain't helping either ):</td>\n",
       "    </tr>\n",
       "    <tr>\n",
       "      <th>34</th>\n",
       "      <td>Photoshop Tools Crash Course - Complete Photoshop Tool Guide http://t.co/DunMvj7ITl #course http://t.co/RgdrJv63hF</td>\n",
       "    </tr>\n",
       "    <tr>\n",
       "      <th>65</th>\n",
       "      <td>USFS an acronym for United States Fire Service. http://t.co/8NAdrGr4xC</td>\n",
       "    </tr>\n",
       "    <tr>\n",
       "      <th>63</th>\n",
       "      <td>when fizzy is sitting in the regular flood seats ...... and no one knows who she is.....</td>\n",
       "    </tr>\n",
       "    <tr>\n",
       "      <th>18</th>\n",
       "      <td>@LasVegasLocally @VitalVegas They reined it in to 3 drinks each for 2 people but only on account of too many falling-off-stool casualties!</td>\n",
       "    </tr>\n",
       "    <tr>\n",
       "      <th>74</th>\n",
       "      <td>Hurricane Dancers: The First Caribbean Pirate Shipwreck\\nMargarita Engle - Henry Holt and Co. (BYR). http://t.co/i7EskymOec</td>\n",
       "    </tr>\n",
       "    <tr>\n",
       "      <th>7</th>\n",
       "      <td>I know where to go when the zombies take over!! http://t.co/hUTHXlkyxy</td>\n",
       "    </tr>\n",
       "    <tr>\n",
       "      <th>92</th>\n",
       "      <td>sorry-I built a fire by my desk already. RT@irishirr\\n@MChapmanWSAZ @WSAZ_Brittany @kellyannwx ..please maintain that snowstorm til I arrive.</td>\n",
       "    </tr>\n",
       "  </tbody>\n",
       "</table>\n",
       "</div>"
      ],
      "text/plain": [
       "                                                                                                                                              Text\n",
       "27       Worlds Collide When an American Family Takes Over Britain's Isle of Man in New TLC Show Suddenly Royal http://t.co/OmB3oS54tN via @People\n",
       "69                       @kristenKOIN6 Yay good cooler weather for PDX..ABQ NM is feeling the heat wave now bcuz my rain dances aren't working :-)\n",
       "106                                                           and I thought my surgical wounds were healed!!! this weather ain't helping either ):\n",
       "34                              Photoshop Tools Crash Course - Complete Photoshop Tool Guide http://t.co/DunMvj7ITl #course http://t.co/RgdrJv63hF\n",
       "65                                                                          USFS an acronym for United States Fire Service. http://t.co/8NAdrGr4xC\n",
       "63                                                        when fizzy is sitting in the regular flood seats ...... and no one knows who she is.....\n",
       "18      @LasVegasLocally @VitalVegas They reined it in to 3 drinks each for 2 people but only on account of too many falling-off-stool casualties!\n",
       "74                     Hurricane Dancers: The First Caribbean Pirate Shipwreck\\nMargarita Engle - Henry Holt and Co. (BYR). http://t.co/i7EskymOec\n",
       "7                                                                           I know where to go when the zombies take over!! http://t.co/hUTHXlkyxy\n",
       "92   sorry-I built a fire by my desk already. RT@irishirr\\n@MChapmanWSAZ @WSAZ_Brittany @kellyannwx ..please maintain that snowstorm til I arrive."
      ]
     },
     "metadata": {},
     "output_type": "display_data"
    },
    {
     "name": "stdout",
     "output_type": "stream",
     "text": [
      "\n",
      "Some second degree errors (predicted false, actual true)), Total: 226\n"
     ]
    },
    {
     "data": {
      "text/html": [
       "<div>\n",
       "<style scoped>\n",
       "    .dataframe tbody tr th:only-of-type {\n",
       "        vertical-align: middle;\n",
       "    }\n",
       "\n",
       "    .dataframe tbody tr th {\n",
       "        vertical-align: top;\n",
       "    }\n",
       "\n",
       "    .dataframe thead th {\n",
       "        text-align: right;\n",
       "    }\n",
       "</style>\n",
       "<table border=\"1\" class=\"dataframe\">\n",
       "  <thead>\n",
       "    <tr style=\"text-align: right;\">\n",
       "      <th></th>\n",
       "      <th>Text</th>\n",
       "    </tr>\n",
       "  </thead>\n",
       "  <tbody>\n",
       "    <tr>\n",
       "      <th>15</th>\n",
       "      <td>@DarrellIssa Does that 'great Iran deal' cover bioterrorism? You got cut off terrible of them. Keep up the good work.</td>\n",
       "    </tr>\n",
       "    <tr>\n",
       "      <th>211</th>\n",
       "      <td>Lol\\nLook how tough some people talk that live in some of the most gang infested cities in America\\nYour mouth isn't a weapon\\nYou fucking wimp</td>\n",
       "    </tr>\n",
       "    <tr>\n",
       "      <th>52</th>\n",
       "      <td>@HfxStanfield @beelieveDC @DiscoveryCntr what is happening we hear there is runway lighting damage by a contractor.</td>\n",
       "    </tr>\n",
       "    <tr>\n",
       "      <th>51</th>\n",
       "      <td>Talent: Misdirection Cyclone Pass Ignite Pass Vanishing Drive Phantom Shot  #KurokoBot</td>\n",
       "    </tr>\n",
       "    <tr>\n",
       "      <th>26</th>\n",
       "      <td>Ton of smoke coming out of one of the new apartment buildings at 160 Ross in Auburn. Several fire trucks on scene. http://t.co/AHVYmSQHqC</td>\n",
       "    </tr>\n",
       "    <tr>\n",
       "      <th>190</th>\n",
       "      <td>@AsimTanvir @NemesisK_PES @KevR_7  Snow? Thunder and lightning?</td>\n",
       "    </tr>\n",
       "    <tr>\n",
       "      <th>171</th>\n",
       "      <td>I agree with certain cultural appropriation things but honestly if u looked at my house it screams appropriation bc Buddhas and stuff-</td>\n",
       "    </tr>\n",
       "    <tr>\n",
       "      <th>57</th>\n",
       "      <td>don't get on I77 south... huge wreck and airlift and maybe some deaths interstate is completely blocked</td>\n",
       "    </tr>\n",
       "    <tr>\n",
       "      <th>42</th>\n",
       "      <td>Petition | Heartless owner that whipped horse until it collapsed is told he can KEEP his animal! Act Now! http://t.co/87eFCBIczM</td>\n",
       "    </tr>\n",
       "    <tr>\n",
       "      <th>40</th>\n",
       "      <td>Now that's what you call a batting collapse #theashes</td>\n",
       "    </tr>\n",
       "  </tbody>\n",
       "</table>\n",
       "</div>"
      ],
      "text/plain": [
       "                                                                                                                                                Text\n",
       "15                             @DarrellIssa Does that 'great Iran deal' cover bioterrorism? You got cut off terrible of them. Keep up the good work.\n",
       "211  Lol\\nLook how tough some people talk that live in some of the most gang infested cities in America\\nYour mouth isn't a weapon\\nYou fucking wimp\n",
       "52                               @HfxStanfield @beelieveDC @DiscoveryCntr what is happening we hear there is runway lighting damage by a contractor.\n",
       "51                                                            Talent: Misdirection Cyclone Pass Ignite Pass Vanishing Drive Phantom Shot  #KurokoBot\n",
       "26         Ton of smoke coming out of one of the new apartment buildings at 160 Ross in Auburn. Several fire trucks on scene. http://t.co/AHVYmSQHqC\n",
       "190                                                                                  @AsimTanvir @NemesisK_PES @KevR_7  Snow? Thunder and lightning?\n",
       "171           I agree with certain cultural appropriation things but honestly if u looked at my house it screams appropriation bc Buddhas and stuff-\n",
       "57                                           don't get on I77 south... huge wreck and airlift and maybe some deaths interstate is completely blocked\n",
       "42                  Petition | Heartless owner that whipped horse until it collapsed is told he can KEEP his animal! Act Now! http://t.co/87eFCBIczM\n",
       "40                                                                                             Now that's what you call a batting collapse #theashes"
      ]
     },
     "metadata": {},
     "output_type": "display_data"
    }
   ],
   "source": [
    "TFIDF_HGBC.validate(X_val, y_val)"
   ]
  },
  {
   "cell_type": "markdown",
   "metadata": {},
   "source": [
    "Beim Auswerten des Modells auf den Validierungsdaten sehen wir, dass die Scores deutlich zum Trainingsdatensatz gesunken sind, <br>jedoch noch gute Ergebnisse zeigen.<br>\n",
    "\n",
    "Hier ist das Ausmass der Fehler zweiten Grades verglichen zu den Fehlern ersten Grades etwas kleiner als bei der Validierung mit den Trainingsdaten.<br>\n",
    "Viele Fehler zweiten Grades sind hier sehr warhscheinlich Antworten zu Threads, welche Katastrophenrelevant sind. <br>\n",
    "Dies macht diese Klassifikation unglaublich schwierig, da der Kontext dafür einfach fehlt.\n",
    "\n",
    "Zum Beispiel:<br> \n",
    "\"@AsimTanvir @NemesisK_PES @KevR_7 Snow? Thunder and lightning?\"<br>\n",
    "\"I agree with certain cultural appropriation things but honestly if u looked at my house it screams appropriation bc Buddhas and stuff-\"<br>\n",
    "\"@DarrellIssa Does that 'great Iran deal' cover bioterrorism? You got cut off terrible of them. Keep up the good work.\"<br>\n",
    "\n",
    "Bei den Fehlern ersten Grades ziehe ich die gleichen Erkenntnisse wie bei der vorherigen Validierung.<br>\n",
    "Es sieht so aus als würden einige Triggerwords wi z.B. \"**Crash**\" (von Crash Course) das Modell stark beinflussen.\n",
    "\n",
    "TODO: Metriken kommentieren."
   ]
  },
  {
   "cell_type": "markdown",
   "metadata": {},
   "source": [
    "## Erkenntnisse"
   ]
  },
  {
   "cell_type": "markdown",
   "metadata": {},
   "source": [
    "TODO: Alle Erkenntnisse zusammentragnen."
   ]
  },
  {
   "cell_type": "markdown",
   "metadata": {},
   "source": [
    "## Fazit"
   ]
  },
  {
   "cell_type": "markdown",
   "metadata": {},
   "source": [
    "TODO: Bei den anderen abschauen."
   ]
  },
  {
   "cell_type": "markdown",
   "metadata": {},
   "source": [
    "## Kaggle Submission\n",
    "\n",
    "Hier lassen wir noch die Testdaten durch das Modell laufen und speichern die Ergebnisse in einer CSV Datei.<br>\n",
    "Diese kann bei der Kaggle Competition hochgeladen werden."
   ]
  },
  {
   "cell_type": "code",
   "execution_count": null,
   "metadata": {},
   "outputs": [],
   "source": [
    "kaggle_test = pd.read_csv('data/processed/test.csv', index_col=\"id\", encoding=\"utf-8\")\n",
    "X_test = [html.unescape(tweet) for tweet in kaggle_test[\"text\"]]\n",
    "\n",
    "submisson = TFIDF_HGBC.predict(X_test)\n",
    "submisson = pd.DataFrame(submisson, index=kaggle_test.index, columns=[\"target\"])\n",
    "submisson.to_csv(\"data/submissions/TFIDF_HGBC.csv\", index=True, index_label=\"id\")"
   ]
  }
 ],
 "metadata": {
  "kernelspec": {
   "display_name": "Python 3 (ipykernel)",
   "language": "python",
   "name": "python3"
  },
  "language_info": {
   "codemirror_mode": {
    "name": "ipython",
    "version": 3
   },
   "file_extension": ".py",
   "mimetype": "text/x-python",
   "name": "python",
   "nbconvert_exporter": "python",
   "pygments_lexer": "ipython3",
   "version": "3.11.6"
  }
 },
 "nbformat": 4,
 "nbformat_minor": 4
}
