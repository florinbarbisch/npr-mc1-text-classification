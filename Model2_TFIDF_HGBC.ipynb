{
 "cells": [
  {
   "attachments": {},
   "cell_type": "markdown",
   "metadata": {},
   "source": [
    "<div style=\"width: 30%; float: right; margin: 10px; margin-right: 5%;\">\n",
    "    <img src=\"https://upload.wikimedia.org/wikipedia/commons/thumb/d/d3/FHNW_Logo.svg/2560px-FHNW_Logo.svg.png\" width=\"500\" style=\"float: left; filter: invert(50%);\"/>\n",
    "</div>\n",
    "\n",
    "<h1 style=\"text-align: left; margin-top: 10px; float: left; width: 60%;\">\n",
    "    npr Mini-Challenge 1: <br>TFIDF-HGBC\n",
    "</h1>\n",
    "\n",
    "<p style=\"clear: both; text-align: left;\">\n",
    "    Bearbeitet durch Florin Barbisch, Gabriel Torres Gamez und Jan Zwicky im HS 2023.\n",
    "</p>"
   ]
  },
  {
   "attachments": {},
   "cell_type": "markdown",
   "metadata": {},
   "source": [
    "## Modellerklärung\n",
    "\n",
    "Das Modell zur Klassifikation von Disaster Tweets besteht aus zwei Hauptkomponenten: einem Vectorizer und einem Classifier.\n",
    "\n",
    "Der Vectorizer, in diesem Fall TFIDF (Term Frequency-Inverse Document Frequency), wandelt die Tweets in numerische Vektoren<br>\n",
    "um. TFIDF berechnet für jedes Wort in einem Tweet einen Wert, der angibt, wie wichtig das Wort für den Tweet ist. Dabei wird<br>\n",
    "die Häufigkeit des Wortes im Tweet (Term Frequency) mit der Seltenheit des Wortes im gesamten Textkorpus (Inverse Document<br>\n",
    "Frequency) multipliziert. Dieser Prozess ermöglicht es, die Tweets in einem numerischen Raum darzustellen, in dem ähnliche<br>\n",
    "Tweets nahe beieinander liegen.\n",
    "\n",
    "Nachdem die Tweets mit dem Vectorizer in Vektoren umgewandelt wurden, werden sie dem Histogram Gradient Boosting Classifier<br>\n",
    "zugeführt. Dieser Classifier ist eine Erweiterung des Gradient Boosting Classifiers und verwendet Histogramme, um die<br>\n",
    "Effizienz des Trainings und der Vorhersage zu verbessern. Der Classifier lernt aus den TFIDF-Vektoren und<br>\n",
    "erstellt ein Modell, das in der Lage ist, neue, nicht gekennzeichnete Tweets zu klassifizieren. Dabei wird der<br>\n",
    "Disaster-Status (Ja/Nein) des Tweets vorhergesagt."
   ]
  },
  {
   "attachments": {},
   "cell_type": "markdown",
   "metadata": {},
   "source": [
    "## Requirements, Imports und Einstellungen\n",
    "Hier werden die benötigten Python-Pakete importiert und die Einstellungen für die Plots\n",
    "vorgenommen. "
   ]
  },
  {
   "cell_type": "code",
   "execution_count": 1,
   "metadata": {
    "tags": []
   },
   "outputs": [
    {
     "name": "stdout",
     "output_type": "stream",
     "text": [
      "Python Version: 3.11.6 (main, Oct  2 2023, 13:45:54) [Clang 15.0.0 (clang-1500.0.40.1)]\n",
      "PyTorch Version: 2.1.0\n",
      "Numpy Version: 1.25.2\n",
      "Scipy Version: 1.11.3\n",
      "Pandas Version: 2.1.1\n",
      "Matplotlib Version: 3.7.0\n",
      "Sklearn Version: 1.3.1\n",
      "Seaborn Version: 0.12.2\n",
      "NLTK Version: 3.8.1\n",
      "\n"
     ]
    },
    {
     "name": "stderr",
     "output_type": "stream",
     "text": [
      "[nltk_data] Downloading package wordnet to\n",
      "[nltk_data]     /Users/gabriel.torres/nltk_data...\n",
      "[nltk_data]   Package wordnet is already up-to-date!\n",
      "[nltk_data] Downloading package averaged_perceptron_tagger to\n",
      "[nltk_data]     /Users/gabriel.torres/nltk_data...\n",
      "[nltk_data]   Package averaged_perceptron_tagger is already up-to-\n",
      "[nltk_data]       date!\n"
     ]
    },
    {
     "data": {
      "text/plain": [
       "True"
      ]
     },
     "execution_count": 1,
     "metadata": {},
     "output_type": "execute_result"
    }
   ],
   "source": [
    "# All Imports\n",
    "import sys\n",
    "import html\n",
    "import nltk\n",
    "import scipy\n",
    "import torch\n",
    "import sklearn\n",
    "import warnings\n",
    "import numpy as np\n",
    "import pandas as pd\n",
    "import matplotlib.pyplot as plt\n",
    "import seaborn as sns\n",
    "\n",
    "from sklearn.ensemble import HistGradientBoostingClassifier\n",
    "from sklearn.feature_extraction.text import TfidfVectorizer\n",
    "\n",
    "# Versions of the packages used\n",
    "print(f\"Python Version: {sys.version}\")\n",
    "print(f\"PyTorch Version: {torch.__version__}\")\n",
    "print(f\"Numpy Version: {np.__version__}\")\n",
    "print(f\"Scipy Version: {scipy.__version__}\")\n",
    "print(f\"Pandas Version: {pd.__version__}\")\n",
    "print(f\"Matplotlib Version: {plt.matplotlib.__version__}\")\n",
    "print(f\"Sklearn Version: {sklearn.__version__}\")\n",
    "print(f\"Seaborn Version: {sns.__version__}\")\n",
    "print(f\"NLTK Version: {nltk.__version__}\")\n",
    "print()\n",
    "\n",
    "# Warnings Settings\n",
    "warnings.simplefilter(action='ignore', category=FutureWarning)\n",
    "\n",
    "# Numpy Settings\n",
    "np.set_printoptions(precision=2, suppress=True)\n",
    "np.random.seed(42)\n",
    "\n",
    "# Matplotlib Settings\n",
    "plt.rcParams[\"figure.figsize\"] = (4, 4)\n",
    "plt.rcParams[\"figure.dpi\"] = 100\n",
    "\n",
    "# Pandas Settings\n",
    "pd.options.display.max_colwidth = None\n",
    "\n",
    "# NLTK Settings\n",
    "nltk.download('wordnet')\n",
    "nltk.download('averaged_perceptron_tagger')"
   ]
  },
  {
   "cell_type": "markdown",
   "metadata": {},
   "source": [
    "## Helper Functions\n",
    "\n",
    "Hier werden Funktionen und Klassen definiert, die bei den Modellen verwendet werden."
   ]
  },
  {
   "cell_type": "code",
   "execution_count": 2,
   "metadata": {},
   "outputs": [],
   "source": [
    "# Metrics, shortcuts, constants, etc.\n",
    "class Pipeline:\n",
    "    \"\"\"Pipeline for customizable text classification model.\"\"\"\n",
    "\n",
    "    def __init__(self, vectorizer, classifier, reducer=None) -> None:\n",
    "        self.vectorizer = vectorizer\n",
    "        self.classifier = classifier\n",
    "        self.reducer = reducer\n",
    "\n",
    "    def __repr__(self) -> str:\n",
    "        return f\"Pipeline(vectorizer={self.vectorizer}, classifier={self.classifier}, reducer={self.reducer})\"\n",
    "\n",
    "    def fit(self, features, labels) -> \"Pipeline\":\n",
    "        \"\"\"\n",
    "        Fit the model to the given training data.\n",
    "\n",
    "        Parameters\n",
    "        ----------\n",
    "        features : list of str\n",
    "            Training data features.\n",
    "        labels : np.ndarray or pandas.Series\n",
    "            Training data labels.\n",
    "\n",
    "        Returns\n",
    "        -------\n",
    "        self\n",
    "            The fitted model.\n",
    "        \"\"\"\n",
    "        self.vectorizer.fit(features)\n",
    "        transformed_features = self.vectorizer.transform(features).toarray()\n",
    "        if self.reducer:\n",
    "            self.reducer.fit(transformed_features)\n",
    "            transformed_features = self.reducer.transform(transformed_features)\n",
    "        self.classifier.fit(transformed_features, labels)\n",
    "        return self\n",
    "\n",
    "    def predict(self, features) -> np.ndarray:\n",
    "        \"\"\"\n",
    "        Predict labels for the given features.\n",
    "\n",
    "        Parameters\n",
    "        ----------\n",
    "        features : list of str\n",
    "            Features to predict labels for.\n",
    "\n",
    "        Returns\n",
    "        -------\n",
    "        np.ndarray\n",
    "            Predicted labels for the given features.\n",
    "        \"\"\"\n",
    "        transformed_features = self.vectorizer.transform(features).toarray()\n",
    "        if self.reducer:\n",
    "            transformed_features = self.reducer.transform(transformed_features)\n",
    "        return self.classifier.predict(transformed_features)\n",
    "\n",
    "    def score(self, features, labels, metric=\"acc\") -> np.float64:\n",
    "        \"\"\"\n",
    "        Score the model on the given features and labels.\n",
    "\n",
    "        Parameters\n",
    "        ----------\n",
    "        features : list of str\n",
    "            Features to score the model on.\n",
    "        labels : np.ndarray or pandas.Series\n",
    "            Labels to score the model on.\n",
    "        metric : str, optional\n",
    "            Metric to use for scoring, by default \"acc\"\n",
    "\n",
    "        Returns\n",
    "        -------\n",
    "        np.float64\n",
    "            Score of the model on the given features and labels.\n",
    "        \"\"\"\n",
    "        match metric:\n",
    "            case \"acc\":\n",
    "                return sklearn.metrics.accuracy_score(labels, self.predict(features))\n",
    "            case \"f1_macro\":\n",
    "                return sklearn.metrics.f1_score(labels, self.predict(features), average=\"macro\")\n",
    "            case _:\n",
    "                raise ValueError(f\"Unknown metric: {metric}\")\n",
    "            \n",
    "    def validate(self, features, labels) -> None:\n",
    "        \"\"\"\n",
    "        Validate the model on the given features and labels.\n",
    "\n",
    "        Parameters\n",
    "        ----------\n",
    "        features : list of str\n",
    "            Features to validate the model on.\n",
    "        labels : np.ndarray or pandas.Series\n",
    "            Labels to validate the model on.\n",
    "        \"\"\"\n",
    "        predicted_labels = self.predict(features)\n",
    "\n",
    "        print(\"Metrics\")\n",
    "        print(f\"Accuracy: {self.score(features, labels, metric='acc')}\")\n",
    "        print(f\"F1 Macro: {self.score(features, labels, metric='f1_macro')}\")\n",
    "        print()\n",
    "\n",
    "        print(\"Confusion Matrix\")\n",
    "        conf_matrix = sklearn.metrics.confusion_matrix(labels, predicted_labels).astype(int)\n",
    "        sns.heatmap(conf_matrix, annot=True, fmt='d', cmap='Greys', cbar=False,\n",
    "                    xticklabels=['Predicted False', 'Predicted True'],\n",
    "                    yticklabels=['Actual False', 'Actual True'],\n",
    "                    annot_kws={\"size\": 16})\n",
    "        plt.xlabel('Predicted')\n",
    "        plt.ylabel('Actual')\n",
    "        plt.title('Confusion Matrix')\n",
    "        plt.show()\n",
    "        print()\n",
    "\n",
    "        print(\"ROC Curve\")\n",
    "        probs = self.classifier.predict_proba(self.vectorizer.transform(features).toarray())\n",
    "        fpr, tpr, _ = sklearn.metrics.roc_curve(labels, probs[:, 1])\n",
    "        plt.plot(fpr, tpr)\n",
    "        plt.xlabel('False Positive Rate')\n",
    "        plt.ylabel('True Positive Rate')\n",
    "        plt.title('ROC Curve')\n",
    "        plt.show()\n",
    "        print()\n",
    "\n",
    "        print(f\"Some first degree errors (predicted true, actual false)), Total: {np.sum((predicted_labels == 1) & (labels == 0))}\")\n",
    "        first_degree_errors = np.where((predicted_labels == 1) & (labels == 0))[0]\n",
    "        first_degree_errors = pd.DataFrame({'Text': [html.unescape(features[i]) for i in first_degree_errors],})\n",
    "        display(first_degree_errors.sample(10))\n",
    "        print()\n",
    "\n",
    "        print(f\"Some second degree errors (predicted false, actual true)), Total: {np.sum((predicted_labels == 0) & (labels == 1))}\")\n",
    "        second_degree_errors = np.where((predicted_labels == 0) & (labels == 1))[0]\n",
    "        second_degree_errors = pd.DataFrame({'Text': [html.unescape(features[i]) for i in second_degree_errors],})\n",
    "        display(second_degree_errors.sample(10))"
   ]
  },
  {
   "cell_type": "markdown",
   "metadata": {},
   "source": [
    "## Einlesen des verarbeiteten Datensatzes"
   ]
  },
  {
   "cell_type": "code",
   "execution_count": 3,
   "metadata": {},
   "outputs": [],
   "source": [
    "train = pd.read_csv('data/processed/train.csv', index_col=0, encoding='UTF-8')\n",
    "val = pd.read_csv('data/processed/val.csv', index_col=0, encoding='UTF-8')\n",
    "\n",
    "X_train = train.text.values\n",
    "X_val = val.text.values\n",
    "\n",
    "y_train = train[\"target\"].values\n",
    "y_val = val[\"target\"].values"
   ]
  },
  {
   "cell_type": "markdown",
   "metadata": {},
   "source": [
    "Wir lesen die getrennten Datensätze ein und wandeln alle vorhandenen HTML Sonderzeichen in normale Zeichen um.<br>\n",
    "In unseren X Arrays befinden sich die Sätze untokenisiert. Der TFIDF Vectorizer \"tokenisiert\" die Sätze automatisch.\n"
   ]
  },
  {
   "cell_type": "markdown",
   "metadata": {},
   "source": [
    "## Trainieren des Klassifikationsmodell"
   ]
  },
  {
   "cell_type": "code",
   "execution_count": 4,
   "metadata": {},
   "outputs": [
    {
     "data": {
      "text/plain": [
       "Pipeline(vectorizer=TfidfVectorizer(max_features=1000,\n",
       "                preprocessor=<function <lambda> at 0x28846d9e0>,\n",
       "                token_pattern=None,\n",
       "                tokenizer=<function word_tokenize at 0x12f7447c0>), classifier=HistGradientBoostingClassifier(), reducer=None)"
      ]
     },
     "execution_count": 4,
     "metadata": {},
     "output_type": "execute_result"
    }
   ],
   "source": [
    "# define preprocessing\n",
    "def preprocess(\n",
    "    tweet, html_escape=True, tokenizer=nltk.tokenize.word_tokenize, lemmatize=True, stem=True\n",
    "):\n",
    "    tweet = html.unescape(tweet) if html_escape else tweet\n",
    "\n",
    "    tweet = tokenizer(tweet) if stem or lemmatize else tweet\n",
    "    lemmatizer = nltk.stem.WordNetLemmatizer()\n",
    "    tweet = [lemmatizer.lemmatize(word) for word in tweet] if lemmatize else tweet\n",
    "    tweet = [nltk.stem.PorterStemmer().stem(word) for word in tweet] if stem else tweet\n",
    "    tweet = \" \".join(tweet) if stem or lemmatize else tweet\n",
    "\n",
    "    return tweet\n",
    "\n",
    "\n",
    "# Define Pipeline\n",
    "TFIDF_HGBC = Pipeline(\n",
    "    vectorizer=TfidfVectorizer(\n",
    "        max_features=1000,\n",
    "        preprocessor=lambda tweet: preprocess(\n",
    "            tweet,\n",
    "            html_escape=True,\n",
    "            tokenizer=nltk.word_tokenize,\n",
    "            lemmatize=True,\n",
    "            stem=True,\n",
    "        ),\n",
    "        tokenizer=nltk.word_tokenize,\n",
    "        token_pattern=None,\n",
    "    ),\n",
    "    classifier=HistGradientBoostingClassifier(),\n",
    "    reducer=None,  # None, PCA, NMF, etc.\n",
    ")\n",
    "\n",
    "# Fit Pipeline\n",
    "TFIDF_HGBC.fit(X_train, y_train)"
   ]
  },
  {
   "cell_type": "markdown",
   "metadata": {},
   "source": [
    "Für das Trainieren des Modells wird der TFIDF Vectorizer verwendet, um die Sätze in Matrizen umzuwandeln. <br>\n",
    "Die Matrizen werden dann in den HGBC gegeben, um das Modell zu trainieren. <br>\n",
    "\n",
    "Zwischen TFIDF Vectorizer und HGBC besteht die Option, eine Dimensionsreduktion durchzuführen. <br>\n",
    "Jedoch ist dies in vielen Fällen langsamer und führt zu schlechteren Ergebnissen. <br>\n",
    "Alternativ kann man dem Vectorizer mitteilen, nur die 1000 wichtigsten Wörter zu verwenden.<br> \n",
    "Dies führt erstaunlicherweise nicht zu schlechteren Ergebnissen. Möglicherweise wegen der Simplizität unseres Datensatzes.<br>"
   ]
  },
  {
   "cell_type": "markdown",
   "metadata": {},
   "source": [
    "## Auswertung des Klassifikationsmodell\n",
    "\n",
    "TODO: Welche Metriken und wieso passen diese (zum Anwenungsfall)?"
   ]
  },
  {
   "cell_type": "markdown",
   "metadata": {},
   "source": [
    "Als erstes Überprüfen wir unser Modell auf den Trainingsdaten."
   ]
  },
  {
   "cell_type": "code",
   "execution_count": 5,
   "metadata": {},
   "outputs": [
    {
     "name": "stdout",
     "output_type": "stream",
     "text": [
      "Metrics\n",
      "Accuracy: 0.8879425517702071\n",
      "F1 Macro: 0.8827769616112922\n",
      "\n",
      "Confusion Matrix\n"
     ]
    },
    {
     "data": {
      "image/png": "[encoded data removed]",
      "text/plain": [
       "<Figure size 400x400 with 1 Axes>"
      ]
     },
     "metadata": {},
     "output_type": "display_data"
    },
    {
     "name": "stdout",
     "output_type": "stream",
     "text": [
      "\n",
      "ROC Curve\n"
     ]
    },
    {
     "data": {
      "image/png": "[encoded data removed]",
      "text/plain": [
       "<Figure size 400x400 with 1 Axes>"
      ]
     },
     "metadata": {},
     "output_type": "display_data"
    },
    {
     "name": "stdout",
     "output_type": "stream",
     "text": [
      "\n",
      "Some first degree errors (predicted true, actual false)), Total: 161\n"
     ]
    },
    {
     "data": {
      "text/html": [
       "<div>\n",
       "<style scoped>\n",
       "    .dataframe tbody tr th:only-of-type {\n",
       "        vertical-align: middle;\n",
       "    }\n",
       "\n",
       "    .dataframe tbody tr th {\n",
       "        vertical-align: top;\n",
       "    }\n",
       "\n",
       "    .dataframe thead th {\n",
       "        text-align: right;\n",
       "    }\n",
       "</style>\n",
       "<table border=\"1\" class=\"dataframe\">\n",
       "  <thead>\n",
       "    <tr style=\"text-align: right;\">\n",
       "      <th></th>\n",
       "      <th>Text</th>\n",
       "    </tr>\n",
       "  </thead>\n",
       "  <tbody>\n",
       "    <tr>\n",
       "      <th>158</th>\n",
       "      <td>We should all have a fire safety plan. RT @Matt_Kroschel: MOCK WILDFIRE near #Vail as agencies prepare for the worst. http://t.co/SWwyLRk0fv</td>\n",
       "    </tr>\n",
       "    <tr>\n",
       "      <th>109</th>\n",
       "      <td>@BenignoVito @LibertyBell1000 HILLARYMASS MURDERER.</td>\n",
       "    </tr>\n",
       "    <tr>\n",
       "      <th>131</th>\n",
       "      <td>Nike Golf Storm Fit Golf Jacket Black Medium http://t.co/jvAI5Vkmsy: #SportingGoods http://t.co/Nr8JjmpmoS</td>\n",
       "    </tr>\n",
       "    <tr>\n",
       "      <th>55</th>\n",
       "      <td>For those displaced by disasters label and legal status remain out of reach https://t.co/kJMgTEEklp</td>\n",
       "    </tr>\n",
       "    <tr>\n",
       "      <th>94</th>\n",
       "      <td>Bayelsa poll: Tension in Bayelsa as Patience Jonathan plans to hijack APC PDP: Plans by former First Lady and... http://t.co/3eJL9lZlCH</td>\n",
       "    </tr>\n",
       "    <tr>\n",
       "      <th>29</th>\n",
       "      <td>Warne Ponting shocked by Australian collapse - Yahoo Cricket India https://t.co/hsgkTeZUCN</td>\n",
       "    </tr>\n",
       "    <tr>\n",
       "      <th>101</th>\n",
       "      <td>Stream HYPE HURRICANE</td>\n",
       "    </tr>\n",
       "    <tr>\n",
       "      <th>51</th>\n",
       "      <td>@Bonn1eGreer The Angel of History propelled into the future by the winds of progress leaves in its wake piles of death and destruction. WB</td>\n",
       "    </tr>\n",
       "    <tr>\n",
       "      <th>100</th>\n",
       "      <td>Entertain this thought for a moment:\\n\\ndiarrhea hurricane</td>\n",
       "    </tr>\n",
       "    <tr>\n",
       "      <th>144</th>\n",
       "      <td>OMEGA MEN Writer Explores Terrorism Religion In an 'Epic KYLE RAYNER Story' http://t.co/Hr88CWxPGz #Newsarama</td>\n",
       "    </tr>\n",
       "  </tbody>\n",
       "</table>\n",
       "</div>"
      ],
      "text/plain": [
       "                                                                                                                                             Text\n",
       "158  We should all have a fire safety plan. RT @Matt_Kroschel: MOCK WILDFIRE near #Vail as agencies prepare for the worst. http://t.co/SWwyLRk0fv\n",
       "109                                                                                           @BenignoVito @LibertyBell1000 HILLARYMASS MURDERER.\n",
       "131                                    Nike Golf Storm Fit Golf Jacket Black Medium http://t.co/jvAI5Vkmsy: #SportingGoods http://t.co/Nr8JjmpmoS\n",
       "55                                            For those displaced by disasters label and legal status remain out of reach https://t.co/kJMgTEEklp\n",
       "94        Bayelsa poll: Tension in Bayelsa as Patience Jonathan plans to hijack APC PDP: Plans by former First Lady and... http://t.co/3eJL9lZlCH\n",
       "29                                                     Warne Ponting shocked by Australian collapse - Yahoo Cricket India https://t.co/hsgkTeZUCN\n",
       "101                                                                                                                         Stream HYPE HURRICANE\n",
       "51     @Bonn1eGreer The Angel of History propelled into the future by the winds of progress leaves in its wake piles of death and destruction. WB\n",
       "100                                                                                    Entertain this thought for a moment:\\n\\ndiarrhea hurricane\n",
       "144                                 OMEGA MEN Writer Explores Terrorism Religion In an 'Epic KYLE RAYNER Story' http://t.co/Hr88CWxPGz #Newsarama"
      ]
     },
     "metadata": {},
     "output_type": "display_data"
    },
    {
     "name": "stdout",
     "output_type": "stream",
     "text": [
      "\n",
      "Some second degree errors (predicted false, actual true)), Total: 510\n"
     ]
    },
    {
     "data": {
      "text/html": [
       "<div>\n",
       "<style scoped>\n",
       "    .dataframe tbody tr th:only-of-type {\n",
       "        vertical-align: middle;\n",
       "    }\n",
       "\n",
       "    .dataframe tbody tr th {\n",
       "        vertical-align: top;\n",
       "    }\n",
       "\n",
       "    .dataframe thead th {\n",
       "        text-align: right;\n",
       "    }\n",
       "</style>\n",
       "<table border=\"1\" class=\"dataframe\">\n",
       "  <thead>\n",
       "    <tr style=\"text-align: right;\">\n",
       "      <th></th>\n",
       "      <th>Text</th>\n",
       "    </tr>\n",
       "  </thead>\n",
       "  <tbody>\n",
       "    <tr>\n",
       "      <th>86</th>\n",
       "      <td>@marcoarment Middle of winter in Sydney we have had snow bush fires and 78 degree days in the last week.  Keeps you on your toes for sure.</td>\n",
       "    </tr>\n",
       "    <tr>\n",
       "      <th>350</th>\n",
       "      <td>@tinybaby @adultblackmale @mattytalks meltdown mwednesday</td>\n",
       "    </tr>\n",
       "    <tr>\n",
       "      <th>199</th>\n",
       "      <td>Could Billboard's Hot 100 chart be displaced by these social-media-driven music charts?    http://t.co/WVlaH8jRXe</td>\n",
       "    </tr>\n",
       "    <tr>\n",
       "      <th>210</th>\n",
       "      <td>Wall of noise is one thing - but a wall of dust? Moving at 60MPH? http://t.co/9NwAJLi9cr How to not get blown away! http://t.co/j4NI4N0yFZ</td>\n",
       "    </tr>\n",
       "    <tr>\n",
       "      <th>87</th>\n",
       "      <td>@DoriCreates @alhanda seems gov moonbeam between tokes blames bush for all the fires.</td>\n",
       "    </tr>\n",
       "    <tr>\n",
       "      <th>138</th>\n",
       "      <td>SO THIRSTY YALL IN DANGER OF DEHYDRATION</td>\n",
       "    </tr>\n",
       "    <tr>\n",
       "      <th>31</th>\n",
       "      <td>Trial Date Set for Man Charged with Arson Burglary http://t.co/WftCrLz32P</td>\n",
       "    </tr>\n",
       "    <tr>\n",
       "      <th>40</th>\n",
       "      <td>STAR WARS POWER OF THE JEDI COLLECTION 1 BATTLE DROID HASBRO - Full read by eBay http://t.co/xFguklrlTf http://t.co/FeGu8hWMc4</td>\n",
       "    </tr>\n",
       "    <tr>\n",
       "      <th>192</th>\n",
       "      <td>@argentings WE COULD HAVE HAD IT AAAAAAALLLL IÛªm not even on that season and IÛªm devastated</td>\n",
       "    </tr>\n",
       "    <tr>\n",
       "      <th>476</th>\n",
       "      <td>@MrMikeEaton @Muazimus_Prime hill hill mountain volcano of hell mountain hill hil.</td>\n",
       "    </tr>\n",
       "  </tbody>\n",
       "</table>\n",
       "</div>"
      ],
      "text/plain": [
       "                                                                                                                                           Text\n",
       "86   @marcoarment Middle of winter in Sydney we have had snow bush fires and 78 degree days in the last week.  Keeps you on your toes for sure.\n",
       "350                                                                                   @tinybaby @adultblackmale @mattytalks meltdown mwednesday\n",
       "199                           Could Billboard's Hot 100 chart be displaced by these social-media-driven music charts?    http://t.co/WVlaH8jRXe\n",
       "210  Wall of noise is one thing - but a wall of dust? Moving at 60MPH? http://t.co/9NwAJLi9cr How to not get blown away! http://t.co/j4NI4N0yFZ\n",
       "87                                                        @DoriCreates @alhanda seems gov moonbeam between tokes blames bush for all the fires.\n",
       "138                                                                                                    SO THIRSTY YALL IN DANGER OF DEHYDRATION\n",
       "31                                                                    Trial Date Set for Man Charged with Arson Burglary http://t.co/WftCrLz32P\n",
       "40               STAR WARS POWER OF THE JEDI COLLECTION 1 BATTLE DROID HASBRO - Full read by eBay http://t.co/xFguklrlTf http://t.co/FeGu8hWMc4\n",
       "192                                             @argentings WE COULD HAVE HAD IT AAAAAAALLLL IÛªm not even on that season and IÛªm devastated\n",
       "476                                                          @MrMikeEaton @Muazimus_Prime hill hill mountain volcano of hell mountain hill hil."
      ]
     },
     "metadata": {},
     "output_type": "display_data"
    }
   ],
   "source": [
    "TFIDF_HGBC.validate(X_train, y_train)"
   ]
  },
  {
   "cell_type": "markdown",
   "metadata": {},
   "source": [
    "Beim Auswerten des Modells auf den Trainingsdaten erreichen wir recht hohe Metriken. Das Modell macht aber sehr viele Fehler zweiten Grades.<br>\n",
    "Wenn man aber die falsch klassifizierten Sätze sieht, sehen wir ein komisches Muster:<br>\n",
    "Einige Sätze, welche als Katastrophe klassifiziert werden, sehen nicht gerade nach Katastrophen aus oder können nur nach Einsicht eines Links so <br>klassifiziert werden. <br><br>\n",
    "Zum Beispiel:<br> \n",
    "\"@freeMurphy Your hot take on Canada's hitchhiking garbage-bot (destroyed in Philly) was sorely needed.\"<br>\n",
    "\"ok peace I hope I fall off a cliff along with my dignity\"<br>\n",
    "\"This is the natural and unavoidable consequence of socialism everywhere it has been tried.http://t.co/BbDpnj8XSx A\"<br><br>\n",
    "Bei den Fehlern ersten Grades kann man schon besser nachvollziehen, wieso das Modell diese falsch klassifiziert hat. <br>\n",
    "Wörter wie \"hostage\", \"suicide bomb\" oder \"wars\" werden genutzt, um einen Satz dramatischer wirken zu lassen. <br>\n",
    "Das Modell hat Schwierigkeiten, diese Zusammenhänge im Kontext korrekt zu erkennen."
   ]
  },
  {
   "cell_type": "code",
   "execution_count": 6,
   "metadata": {},
   "outputs": [
    {
     "name": "stdout",
     "output_type": "stream",
     "text": [
      "Metrics\n",
      "Accuracy: 0.7889111556446226\n",
      "F1 Macro: 0.7773587960435405\n",
      "\n",
      "Confusion Matrix\n"
     ]
    },
    {
     "data": {
      "image/png": "[encoded data removed]",
      "text/plain": [
       "<Figure size 400x400 with 1 Axes>"
      ]
     },
     "metadata": {},
     "output_type": "display_data"
    },
    {
     "name": "stdout",
     "output_type": "stream",
     "text": [
      "\n",
      "ROC Curve\n"
     ]
    },
    {
     "data": {
      "image/png": "[encoded data removed]",
      "text/plain": [
       "<Figure size 400x400 with 1 Axes>"
      ]
     },
     "metadata": {},
     "output_type": "display_data"
    },
    {
     "name": "stdout",
     "output_type": "stream",
     "text": [
      "\n",
      "Some first degree errors (predicted true, actual false)), Total: 88\n"
     ]
    },
    {
     "data": {
      "text/html": [
       "<div>\n",
       "<style scoped>\n",
       "    .dataframe tbody tr th:only-of-type {\n",
       "        vertical-align: middle;\n",
       "    }\n",
       "\n",
       "    .dataframe tbody tr th {\n",
       "        vertical-align: top;\n",
       "    }\n",
       "\n",
       "    .dataframe thead th {\n",
       "        text-align: right;\n",
       "    }\n",
       "</style>\n",
       "<table border=\"1\" class=\"dataframe\">\n",
       "  <thead>\n",
       "    <tr style=\"text-align: right;\">\n",
       "      <th></th>\n",
       "      <th>Text</th>\n",
       "    </tr>\n",
       "  </thead>\n",
       "  <tbody>\n",
       "    <tr>\n",
       "      <th>3</th>\n",
       "      <td>@marksmaponyane Hey!Sundowns were annihilated in their previous meeting with Celtic.Indeed its an improvement.</td>\n",
       "    </tr>\n",
       "    <tr>\n",
       "      <th>66</th>\n",
       "      <td>Captain Abbott must go down with LNP boat #refugees #christianvalues https://t.co/Kp5dpOaF58</td>\n",
       "    </tr>\n",
       "    <tr>\n",
       "      <th>86</th>\n",
       "      <td>GOP debate drinking game. For anyone looking for a bit of fun while watching this train wreck. http://t.co/W3Rga0nkOm http://t.co/0TZsQe8ESD</td>\n",
       "    </tr>\n",
       "    <tr>\n",
       "      <th>84</th>\n",
       "      <td>Camping in a war zone with roving raccoons toughens city slicker http://t.co/oJuS08yZrq</td>\n",
       "    </tr>\n",
       "    <tr>\n",
       "      <th>69</th>\n",
       "      <td>China's Stock Market Crash: Are There Gems In The Rubble?: ChinaÛªs stock market crash this summer h... http://t.co/pE2R3lN16o by .Forbes</td>\n",
       "    </tr>\n",
       "    <tr>\n",
       "      <th>79</th>\n",
       "      <td>I feel like that episode of Victorious when they all got trapped in an RV and almost died of heat stroke #MTVHottest One Direction</td>\n",
       "    </tr>\n",
       "    <tr>\n",
       "      <th>36</th>\n",
       "      <td>The Five Fatal Flaws in the Iran Deal https://t.co/ztfEAd8GId via @YouTube</td>\n",
       "    </tr>\n",
       "    <tr>\n",
       "      <th>76</th>\n",
       "      <td>FERNO would appreciate if everyone in EMS could dust off their engineering degree &amp; inspect all stretcher components. http://t.co/GTEd6LDwho</td>\n",
       "    </tr>\n",
       "    <tr>\n",
       "      <th>64</th>\n",
       "      <td>-  Pandemonium In Aba As Woman Delivers Baby Without Face http://t.co/36GccAPaak http://t.co/nqjZS6wkuN</td>\n",
       "    </tr>\n",
       "    <tr>\n",
       "      <th>43</th>\n",
       "      <td>@kristenKOIN6 Yay good cooler weather for PDX..ABQ NM is feeling the heat wave now bcuz my rain dances aren't working :-)</td>\n",
       "    </tr>\n",
       "  </tbody>\n",
       "</table>\n",
       "</div>"
      ],
      "text/plain": [
       "                                                                                                                                            Text\n",
       "3                                 @marksmaponyane Hey!Sundowns were annihilated in their previous meeting with Celtic.Indeed its an improvement.\n",
       "66                                                  Captain Abbott must go down with LNP boat #refugees #christianvalues https://t.co/Kp5dpOaF58\n",
       "86  GOP debate drinking game. For anyone looking for a bit of fun while watching this train wreck. http://t.co/W3Rga0nkOm http://t.co/0TZsQe8ESD\n",
       "84                                                       Camping in a war zone with roving raccoons toughens city slicker http://t.co/oJuS08yZrq\n",
       "69    China's Stock Market Crash: Are There Gems In The Rubble?: ChinaÛªs stock market crash this summer h... http://t.co/pE2R3lN16o by .Forbes\n",
       "79            I feel like that episode of Victorious when they all got trapped in an RV and almost died of heat stroke #MTVHottest One Direction\n",
       "36                                                                    The Five Fatal Flaws in the Iran Deal https://t.co/ztfEAd8GId via @YouTube\n",
       "76  FERNO would appreciate if everyone in EMS could dust off their engineering degree & inspect all stretcher components. http://t.co/GTEd6LDwho\n",
       "64                                       -  Pandemonium In Aba As Woman Delivers Baby Without Face http://t.co/36GccAPaak http://t.co/nqjZS6wkuN\n",
       "43                     @kristenKOIN6 Yay good cooler weather for PDX..ABQ NM is feeling the heat wave now bcuz my rain dances aren't working :-)"
      ]
     },
     "metadata": {},
     "output_type": "display_data"
    },
    {
     "name": "stdout",
     "output_type": "stream",
     "text": [
      "\n",
      "Some second degree errors (predicted false, actual true)), Total: 228\n"
     ]
    },
    {
     "data": {
      "text/html": [
       "<div>\n",
       "<style scoped>\n",
       "    .dataframe tbody tr th:only-of-type {\n",
       "        vertical-align: middle;\n",
       "    }\n",
       "\n",
       "    .dataframe tbody tr th {\n",
       "        vertical-align: top;\n",
       "    }\n",
       "\n",
       "    .dataframe thead th {\n",
       "        text-align: right;\n",
       "    }\n",
       "</style>\n",
       "<table border=\"1\" class=\"dataframe\">\n",
       "  <thead>\n",
       "    <tr style=\"text-align: right;\">\n",
       "      <th></th>\n",
       "      <th>Text</th>\n",
       "    </tr>\n",
       "  </thead>\n",
       "  <tbody>\n",
       "    <tr>\n",
       "      <th>75</th>\n",
       "      <td>So you have a new weapon that can cause un-imaginable destruction.</td>\n",
       "    </tr>\n",
       "    <tr>\n",
       "      <th>99</th>\n",
       "      <td>Tube strike live: Latest travel updates as London is engulfed in chaos: Û_  cross-London travel will be accepte...  http://t.co/vg8HRbebdA</td>\n",
       "    </tr>\n",
       "    <tr>\n",
       "      <th>96</th>\n",
       "      <td>Hello Calgary!! Important news!! Please be advised!!! http://t.co/ARKTJ9Qn4S</td>\n",
       "    </tr>\n",
       "    <tr>\n",
       "      <th>175</th>\n",
       "      <td>The real question is why is the tornado siren going off in Dyersburg?</td>\n",
       "    </tr>\n",
       "    <tr>\n",
       "      <th>34</th>\n",
       "      <td>Learning from the Legacy of a Catastrophic Eruption - The New Yorker http://t.co/vMWTOUyOHm</td>\n",
       "    </tr>\n",
       "    <tr>\n",
       "      <th>64</th>\n",
       "      <td>News Alerts - Glimpses: Hyderabad deluged by heavy rainfall</td>\n",
       "    </tr>\n",
       "    <tr>\n",
       "      <th>135</th>\n",
       "      <td>@pattonoswalt @FoxNews Wait I thought Fecal Hurricane was on SciFi? Maybe that was turdnado. I've been forgeting up a shit storm lately.</td>\n",
       "    </tr>\n",
       "    <tr>\n",
       "      <th>158</th>\n",
       "      <td>Oops: Bounty hunters try to raid Phoenix police chief's home: A group of armed bounty hunters surrounded the h... http://t.co/dGELJ8rYt9</td>\n",
       "    </tr>\n",
       "    <tr>\n",
       "      <th>48</th>\n",
       "      <td>AKILAH WORLD NEWS Cop pulls man from car to avoid this ... http://t.co/Vn2Fnmy7li</td>\n",
       "    </tr>\n",
       "    <tr>\n",
       "      <th>116</th>\n",
       "      <td>As firefighters make gains on #RockyFire Jerry Brown is heading to the area to meet with first responders tomorrow morning</td>\n",
       "    </tr>\n",
       "  </tbody>\n",
       "</table>\n",
       "</div>"
      ],
      "text/plain": [
       "                                                                                                                                            Text\n",
       "75                                                                            So you have a new weapon that can cause un-imaginable destruction.\n",
       "99   Tube strike live: Latest travel updates as London is engulfed in chaos: Û_  cross-London travel will be accepte...  http://t.co/vg8HRbebdA\n",
       "96                                                                  Hello Calgary!! Important news!! Please be advised!!! http://t.co/ARKTJ9Qn4S\n",
       "175                                                                        The real question is why is the tornado siren going off in Dyersburg?\n",
       "34                                                   Learning from the Legacy of a Catastrophic Eruption - The New Yorker http://t.co/vMWTOUyOHm\n",
       "64                                                                                   News Alerts - Glimpses: Hyderabad deluged by heavy rainfall\n",
       "135     @pattonoswalt @FoxNews Wait I thought Fecal Hurricane was on SciFi? Maybe that was turdnado. I've been forgeting up a shit storm lately.\n",
       "158     Oops: Bounty hunters try to raid Phoenix police chief's home: A group of armed bounty hunters surrounded the h... http://t.co/dGELJ8rYt9\n",
       "48                                                             AKILAH WORLD NEWS Cop pulls man from car to avoid this ... http://t.co/Vn2Fnmy7li\n",
       "116                   As firefighters make gains on #RockyFire Jerry Brown is heading to the area to meet with first responders tomorrow morning"
      ]
     },
     "metadata": {},
     "output_type": "display_data"
    }
   ],
   "source": [
    "TFIDF_HGBC.validate(X_val, y_val)"
   ]
  },
  {
   "cell_type": "markdown",
   "metadata": {},
   "source": [
    "Beim Auswerten des Modells auf den Validierungsdaten sehen wir, dass die Scores deutlich zum Trainingsdatensatz gesunken sind, <br>jedoch noch gute Ergebnisse zeigen.<br>\n",
    "\n",
    "Hier ist das Ausmass der Fehler zweiten Grades verglichen zu den Fehlern ersten Grades etwas kleiner als bei der Validierung mit den Trainingsdaten.<br>\n",
    "Viele Fehler zweiten Grades sind hier sehr warhscheinlich Antworten zu Threads, welche Katastrophenrelevant sind. <br>\n",
    "Dies macht diese Klassifikation unglaublich schwierig, da der Kontext dafür einfach fehlt.\n",
    "\n",
    "Zum Beispiel:<br> \n",
    "\"@AsimTanvir @NemesisK_PES @KevR_7 Snow? Thunder and lightning?\"<br>\n",
    "\"I agree with certain cultural appropriation things but honestly if u looked at my house it screams appropriation bc Buddhas and stuff-\"<br>\n",
    "\"@DarrellIssa Does that 'great Iran deal' cover bioterrorism? You got cut off terrible of them. Keep up the good work.\"<br>\n",
    "\n",
    "Bei den Fehlern ersten Grades ziehe ich die gleichen Erkenntnisse wie bei der vorherigen Validierung.<br>\n",
    "Es sieht so aus als würden einige Triggerwords wi z.B. \"**Crash**\" (von Crash Course) das Modell stark beinflussen.\n",
    "\n",
    "TODO: Metriken kommentieren."
   ]
  },
  {
   "cell_type": "markdown",
   "metadata": {},
   "source": [
    "## Erkenntnisse"
   ]
  },
  {
   "cell_type": "markdown",
   "metadata": {},
   "source": [
    "TODO: Alle Erkenntnisse zusammentragnen."
   ]
  },
  {
   "cell_type": "markdown",
   "metadata": {},
   "source": [
    "## Fazit"
   ]
  },
  {
   "cell_type": "markdown",
   "metadata": {},
   "source": [
    "TODO: Bei den anderen abschauen."
   ]
  },
  {
   "cell_type": "markdown",
   "metadata": {},
   "source": [
    "## Kaggle Submission\n",
    "\n",
    "Hier lassen wir noch die Testdaten durch das Modell laufen und speichern die Ergebnisse in einer CSV Datei.<br>\n",
    "Diese kann bei der Kaggle Competition hochgeladen werden."
   ]
  },
  {
   "cell_type": "code",
   "execution_count": 7,
   "metadata": {},
   "outputs": [],
   "source": [
    "kaggle_test = pd.read_csv('data/processed/test.csv', index_col=\"id\", encoding=\"UTF-8\")\n",
    "X_test = [html.unescape(tweet) for tweet in kaggle_test[\"text\"]]\n",
    "\n",
    "submisson = TFIDF_HGBC.predict(X_test)\n",
    "submisson = pd.DataFrame(submisson, index=kaggle_test.index, columns=[\"target\"])\n",
    "submisson.to_csv(\"data/submissions/TFIDF_HGBC.csv\", index=True, index_label=\"id\")"
   ]
  }
 ],
 "metadata": {
  "kernelspec": {
   "display_name": "Python 3 (ipykernel)",
   "language": "python",
   "name": "python3"
  },
  "language_info": {
   "codemirror_mode": {
    "name": "ipython",
    "version": 3
   },
   "file_extension": ".py",
   "mimetype": "text/x-python",
   "name": "python",
   "nbconvert_exporter": "python",
   "pygments_lexer": "ipython3",
   "version": "3.11.6"
  }
 },
 "nbformat": 4,
 "nbformat_minor": 4
}
